{
 "cells": [
  {
   "cell_type": "code",
   "execution_count": 1,
   "metadata": {
    "colab": {
     "base_uri": "https://localhost:8080/"
    },
    "collapsed": true,
    "id": "h6xGTW-e3tC6",
    "outputId": "483caf2e-1398-4e91-d3ca-11518be7a89d"
   },
   "outputs": [
    {
     "name": "stdout",
     "output_type": "stream",
     "text": [
      "Requirement already satisfied: simpletransformers in c:\\users\\sofia.zabit\\anaconda3\\lib\\site-packages (0.49.3)\n",
      "Requirement already satisfied: requests in c:\\users\\sofia.zabit\\anaconda3\\lib\\site-packages (from simpletransformers) (2.24.0)\n",
      "Requirement already satisfied: pandas in c:\\users\\sofia.zabit\\anaconda3\\lib\\site-packages (from simpletransformers) (1.1.5)\n",
      "Requirement already satisfied: wandb in c:\\users\\sofia.zabit\\anaconda3\\lib\\site-packages (from simpletransformers) (0.10.11)\n",
      "Requirement already satisfied: seqeval in c:\\users\\sofia.zabit\\anaconda3\\lib\\site-packages (from simpletransformers) (1.2.2)\n",
      "Requirement already satisfied: streamlit in c:\\users\\sofia.zabit\\anaconda3\\lib\\site-packages (from simpletransformers) (0.71.0)\n",
      "Requirement already satisfied: tokenizers in c:\\users\\sofia.zabit\\anaconda3\\lib\\site-packages (from simpletransformers) (0.9.2)\n",
      "Requirement already satisfied: numpy in c:\\users\\sofia.zabit\\anaconda3\\lib\\site-packages (from simpletransformers) (1.18.5)\n",
      "Requirement already satisfied: scikit-learn in c:\\users\\sofia.zabit\\anaconda3\\lib\\site-packages (from simpletransformers) (0.23.2)\n",
      "Requirement already satisfied: scipy in c:\\users\\sofia.zabit\\anaconda3\\lib\\site-packages (from simpletransformers) (1.5.0)\n",
      "Requirement already satisfied: tqdm>=4.47.0 in c:\\users\\sofia.zabit\\anaconda3\\lib\\site-packages (from simpletransformers) (4.56.0)\n",
      "Requirement already satisfied: tensorboardx in c:\\users\\sofia.zabit\\anaconda3\\lib\\site-packages (from simpletransformers) (2.1)\n",
      "Requirement already satisfied: transformers>=3.0.2 in c:\\users\\sofia.zabit\\anaconda3\\lib\\site-packages (from simpletransformers) (3.4.0)\n",
      "Requirement already satisfied: regex in c:\\users\\sofia.zabit\\anaconda3\\lib\\site-packages (from simpletransformers) (2020.6.8)\n",
      "Requirement already satisfied: certifi>=2017.4.17 in c:\\users\\sofia.zabit\\anaconda3\\lib\\site-packages (from requests->simpletransformers) (2020.6.20)\n",
      "Requirement already satisfied: urllib3!=1.25.0,!=1.25.1,<1.26,>=1.21.1 in c:\\users\\sofia.zabit\\anaconda3\\lib\\site-packages (from requests->simpletransformers) (1.25.9)\n",
      "Requirement already satisfied: chardet<4,>=3.0.2 in c:\\users\\sofia.zabit\\anaconda3\\lib\\site-packages (from requests->simpletransformers) (3.0.4)\n",
      "Requirement already satisfied: idna<3,>=2.5 in c:\\users\\sofia.zabit\\anaconda3\\lib\\site-packages (from requests->simpletransformers) (2.10)\n",
      "Requirement already satisfied: pytz>=2017.2 in c:\\users\\sofia.zabit\\anaconda3\\lib\\site-packages (from pandas->simpletransformers) (2020.1)\n",
      "Requirement already satisfied: python-dateutil>=2.7.3 in c:\\users\\sofia.zabit\\anaconda3\\lib\\site-packages (from pandas->simpletransformers) (2.8.1)\n",
      "Requirement already satisfied: docker-pycreds>=0.4.0 in c:\\users\\sofia.zabit\\anaconda3\\lib\\site-packages (from wandb->simpletransformers) (0.4.0)\n",
      "Requirement already satisfied: six>=1.13.0 in c:\\users\\sofia.zabit\\anaconda3\\lib\\site-packages (from wandb->simpletransformers) (1.15.0)\n",
      "Requirement already satisfied: sentry-sdk>=0.4.0 in c:\\users\\sofia.zabit\\anaconda3\\lib\\site-packages (from wandb->simpletransformers) (0.19.4)\n",
      "Requirement already satisfied: GitPython>=1.0.0 in c:\\users\\sofia.zabit\\anaconda3\\lib\\site-packages (from wandb->simpletransformers) (3.1.11)\n",
      "Requirement already satisfied: PyYAML in c:\\users\\sofia.zabit\\anaconda3\\lib\\site-packages (from wandb->simpletransformers) (5.3.1)\n",
      "Requirement already satisfied: promise<3,>=2.0 in c:\\users\\sofia.zabit\\anaconda3\\lib\\site-packages (from wandb->simpletransformers) (2.3)\n",
      "Requirement already satisfied: watchdog>=0.8.3 in c:\\users\\sofia.zabit\\anaconda3\\lib\\site-packages (from wandb->simpletransformers) (0.10.3)\n",
      "Requirement already satisfied: protobuf>=3.12.0 in c:\\users\\sofia.zabit\\anaconda3\\lib\\site-packages (from wandb->simpletransformers) (3.13.0)\n",
      "Requirement already satisfied: configparser>=3.8.1 in c:\\users\\sofia.zabit\\anaconda3\\lib\\site-packages (from wandb->simpletransformers) (5.0.1)\n",
      "Requirement already satisfied: subprocess32>=3.5.3 in c:\\users\\sofia.zabit\\anaconda3\\lib\\site-packages (from wandb->simpletransformers) (3.5.4)\n",
      "Requirement already satisfied: psutil>=5.0.0 in c:\\users\\sofia.zabit\\anaconda3\\lib\\site-packages (from wandb->simpletransformers) (5.7.0)\n",
      "Requirement already satisfied: Click>=7.0 in c:\\users\\sofia.zabit\\anaconda3\\lib\\site-packages (from wandb->simpletransformers) (7.1.2)\n",
      "Requirement already satisfied: shortuuid>=0.5.0 in c:\\users\\sofia.zabit\\anaconda3\\lib\\site-packages (from wandb->simpletransformers) (1.0.1)\n",
      "Requirement already satisfied: astor in c:\\users\\sofia.zabit\\anaconda3\\lib\\site-packages (from streamlit->simpletransformers) (0.8.1)\n",
      "Requirement already satisfied: pyarrow in c:\\users\\sofia.zabit\\anaconda3\\lib\\site-packages (from streamlit->simpletransformers) (2.0.0)\n",
      "Requirement already satisfied: cachetools>=4.0 in c:\\users\\sofia.zabit\\anaconda3\\lib\\site-packages (from streamlit->simpletransformers) (4.1.1)\n",
      "Requirement already satisfied: blinker in c:\\users\\sofia.zabit\\anaconda3\\lib\\site-packages (from streamlit->simpletransformers) (1.4)\n",
      "Requirement already satisfied: base58 in c:\\users\\sofia.zabit\\anaconda3\\lib\\site-packages (from streamlit->simpletransformers) (2.0.1)\n",
      "Requirement already satisfied: toml in c:\\users\\sofia.zabit\\anaconda3\\lib\\site-packages (from streamlit->simpletransformers) (0.10.1)\n",
      "Requirement already satisfied: tornado>=5.0 in c:\\users\\sofia.zabit\\anaconda3\\lib\\site-packages (from streamlit->simpletransformers) (6.0.4)\n",
      "Requirement already satisfied: tzlocal in c:\\users\\sofia.zabit\\anaconda3\\lib\\site-packages (from streamlit->simpletransformers) (2.1)\n",
      "Requirement already satisfied: botocore>=1.13.44 in c:\\users\\sofia.zabit\\anaconda3\\lib\\site-packages (from streamlit->simpletransformers) (1.19.9)\n",
      "Requirement already satisfied: enum-compat in c:\\users\\sofia.zabit\\anaconda3\\lib\\site-packages (from streamlit->simpletransformers) (0.0.3)\n",
      "Requirement already satisfied: validators in c:\\users\\sofia.zabit\\anaconda3\\lib\\site-packages (from streamlit->simpletransformers) (0.18.1)\n",
      "Requirement already satisfied: altair>=3.2.0 in c:\\users\\sofia.zabit\\anaconda3\\lib\\site-packages (from streamlit->simpletransformers) (4.1.0)\n",
      "Requirement already satisfied: pillow>=6.2.0 in c:\\users\\sofia.zabit\\anaconda3\\lib\\site-packages (from streamlit->simpletransformers) (7.2.0)\n",
      "Requirement already satisfied: packaging in c:\\users\\sofia.zabit\\anaconda3\\lib\\site-packages (from streamlit->simpletransformers) (20.4)\n",
      "Requirement already satisfied: pydeck>=0.1.dev5 in c:\\users\\sofia.zabit\\anaconda3\\lib\\site-packages (from streamlit->simpletransformers) (0.5.0)\n",
      "Requirement already satisfied: boto3 in c:\\users\\sofia.zabit\\anaconda3\\lib\\site-packages (from streamlit->simpletransformers) (1.16.9)\n",
      "Requirement already satisfied: threadpoolctl>=2.0.0 in c:\\users\\sofia.zabit\\anaconda3\\lib\\site-packages (from scikit-learn->simpletransformers) (2.1.0)\n",
      "Requirement already satisfied: joblib>=0.11 in c:\\users\\sofia.zabit\\anaconda3\\lib\\site-packages (from scikit-learn->simpletransformers) (0.16.0)\n",
      "Requirement already satisfied: filelock in c:\\users\\sofia.zabit\\anaconda3\\lib\\site-packages (from transformers>=3.0.2->simpletransformers) (3.0.12)\n",
      "Requirement already satisfied: sacremoses in c:\\users\\sofia.zabit\\anaconda3\\lib\\site-packages (from transformers>=3.0.2->simpletransformers) (0.0.43)\n",
      "Requirement already satisfied: sentencepiece!=0.1.92 in c:\\users\\sofia.zabit\\anaconda3\\lib\\site-packages (from transformers>=3.0.2->simpletransformers) (0.1.94)\n",
      "Requirement already satisfied: gitdb<5,>=4.0.1 in c:\\users\\sofia.zabit\\anaconda3\\lib\\site-packages (from GitPython>=1.0.0->wandb->simpletransformers) (4.0.5)\n",
      "Requirement already satisfied: pathtools>=0.1.1 in c:\\users\\sofia.zabit\\anaconda3\\lib\\site-packages (from watchdog>=0.8.3->wandb->simpletransformers) (0.1.2)\n",
      "Requirement already satisfied: setuptools in c:\\users\\sofia.zabit\\anaconda3\\lib\\site-packages (from protobuf>=3.12.0->wandb->simpletransformers) (49.2.0.post20200714)\n",
      "Requirement already satisfied: jmespath<1.0.0,>=0.7.1 in c:\\users\\sofia.zabit\\anaconda3\\lib\\site-packages (from botocore>=1.13.44->streamlit->simpletransformers) (0.10.0)\n",
      "Requirement already satisfied: decorator>=3.4.0 in c:\\users\\sofia.zabit\\anaconda3\\lib\\site-packages (from validators->streamlit->simpletransformers) (4.4.2)\n",
      "Requirement already satisfied: entrypoints in c:\\users\\sofia.zabit\\anaconda3\\lib\\site-packages (from altair>=3.2.0->streamlit->simpletransformers) (0.3)\n",
      "Requirement already satisfied: jsonschema in c:\\users\\sofia.zabit\\anaconda3\\lib\\site-packages (from altair>=3.2.0->streamlit->simpletransformers) (3.2.0)\n",
      "Requirement already satisfied: toolz in c:\\users\\sofia.zabit\\anaconda3\\lib\\site-packages (from altair>=3.2.0->streamlit->simpletransformers) (0.10.0)\n",
      "Requirement already satisfied: jinja2 in c:\\users\\sofia.zabit\\anaconda3\\lib\\site-packages (from altair>=3.2.0->streamlit->simpletransformers) (2.11.2)\n",
      "Requirement already satisfied: pyparsing>=2.0.2 in c:\\users\\sofia.zabit\\anaconda3\\lib\\site-packages (from packaging->streamlit->simpletransformers) (2.4.7)\n",
      "Requirement already satisfied: traitlets>=4.3.2 in c:\\users\\sofia.zabit\\anaconda3\\lib\\site-packages (from pydeck>=0.1.dev5->streamlit->simpletransformers) (4.3.3)\n",
      "Requirement already satisfied: ipykernel>=5.1.2; python_version >= \"3.4\" in c:\\users\\sofia.zabit\\anaconda3\\lib\\site-packages (from pydeck>=0.1.dev5->streamlit->simpletransformers) (5.3.2)\n",
      "Requirement already satisfied: ipywidgets>=7.0.0 in c:\\users\\sofia.zabit\\anaconda3\\lib\\site-packages (from pydeck>=0.1.dev5->streamlit->simpletransformers) (7.5.1)\n",
      "Requirement already satisfied: s3transfer<0.4.0,>=0.3.0 in c:\\users\\sofia.zabit\\anaconda3\\lib\\site-packages (from boto3->streamlit->simpletransformers) (0.3.3)\n",
      "Requirement already satisfied: smmap<4,>=3.0.1 in c:\\users\\sofia.zabit\\anaconda3\\lib\\site-packages (from gitdb<5,>=4.0.1->GitPython>=1.0.0->wandb->simpletransformers) (3.0.4)\n",
      "Requirement already satisfied: attrs>=17.4.0 in c:\\users\\sofia.zabit\\anaconda3\\lib\\site-packages (from jsonschema->altair>=3.2.0->streamlit->simpletransformers) (19.3.0)\n",
      "Requirement already satisfied: pyrsistent>=0.14.0 in c:\\users\\sofia.zabit\\anaconda3\\lib\\site-packages (from jsonschema->altair>=3.2.0->streamlit->simpletransformers) (0.16.0)\n",
      "Requirement already satisfied: MarkupSafe>=0.23 in c:\\users\\sofia.zabit\\anaconda3\\lib\\site-packages (from jinja2->altair>=3.2.0->streamlit->simpletransformers) (1.1.1)\n",
      "Requirement already satisfied: ipython-genutils in c:\\users\\sofia.zabit\\anaconda3\\lib\\site-packages (from traitlets>=4.3.2->pydeck>=0.1.dev5->streamlit->simpletransformers) (0.2.0)\n",
      "Requirement already satisfied: jupyter-client in c:\\users\\sofia.zabit\\anaconda3\\lib\\site-packages (from ipykernel>=5.1.2; python_version >= \"3.4\"->pydeck>=0.1.dev5->streamlit->simpletransformers) (6.1.6)\n",
      "Requirement already satisfied: ipython>=5.0.0 in c:\\users\\sofia.zabit\\anaconda3\\lib\\site-packages (from ipykernel>=5.1.2; python_version >= \"3.4\"->pydeck>=0.1.dev5->streamlit->simpletransformers) (7.16.1)\n",
      "Requirement already satisfied: nbformat>=4.2.0 in c:\\users\\sofia.zabit\\anaconda3\\lib\\site-packages (from ipywidgets>=7.0.0->pydeck>=0.1.dev5->streamlit->simpletransformers) (5.0.7)\n",
      "Requirement already satisfied: widgetsnbextension~=3.5.0 in c:\\users\\sofia.zabit\\anaconda3\\lib\\site-packages (from ipywidgets>=7.0.0->pydeck>=0.1.dev5->streamlit->simpletransformers) (3.5.1)\n",
      "Requirement already satisfied: pyzmq>=13 in c:\\users\\sofia.zabit\\anaconda3\\lib\\site-packages (from jupyter-client->ipykernel>=5.1.2; python_version >= \"3.4\"->pydeck>=0.1.dev5->streamlit->simpletransformers) (19.0.1)\n",
      "Requirement already satisfied: jupyter-core>=4.6.0 in c:\\users\\sofia.zabit\\anaconda3\\lib\\site-packages (from jupyter-client->ipykernel>=5.1.2; python_version >= \"3.4\"->pydeck>=0.1.dev5->streamlit->simpletransformers) (4.6.3)\n",
      "Requirement already satisfied: prompt-toolkit!=3.0.0,!=3.0.1,<3.1.0,>=2.0.0 in c:\\users\\sofia.zabit\\anaconda3\\lib\\site-packages (from ipython>=5.0.0->ipykernel>=5.1.2; python_version >= \"3.4\"->pydeck>=0.1.dev5->streamlit->simpletransformers) (3.0.5)\n",
      "Requirement already satisfied: backcall in c:\\users\\sofia.zabit\\anaconda3\\lib\\site-packages (from ipython>=5.0.0->ipykernel>=5.1.2; python_version >= \"3.4\"->pydeck>=0.1.dev5->streamlit->simpletransformers) (0.2.0)\n",
      "Requirement already satisfied: colorama; sys_platform == \"win32\" in c:\\users\\sofia.zabit\\anaconda3\\lib\\site-packages (from ipython>=5.0.0->ipykernel>=5.1.2; python_version >= \"3.4\"->pydeck>=0.1.dev5->streamlit->simpletransformers) (0.4.3)\n",
      "Requirement already satisfied: pickleshare in c:\\users\\sofia.zabit\\anaconda3\\lib\\site-packages (from ipython>=5.0.0->ipykernel>=5.1.2; python_version >= \"3.4\"->pydeck>=0.1.dev5->streamlit->simpletransformers) (0.7.5)\n",
      "Requirement already satisfied: pygments in c:\\users\\sofia.zabit\\anaconda3\\lib\\site-packages (from ipython>=5.0.0->ipykernel>=5.1.2; python_version >= \"3.4\"->pydeck>=0.1.dev5->streamlit->simpletransformers) (2.6.1)\n",
      "Requirement already satisfied: jedi>=0.10 in c:\\users\\sofia.zabit\\anaconda3\\lib\\site-packages (from ipython>=5.0.0->ipykernel>=5.1.2; python_version >= \"3.4\"->pydeck>=0.1.dev5->streamlit->simpletransformers) (0.17.1)\n",
      "Requirement already satisfied: notebook>=4.4.1 in c:\\users\\sofia.zabit\\anaconda3\\lib\\site-packages (from widgetsnbextension~=3.5.0->ipywidgets>=7.0.0->pydeck>=0.1.dev5->streamlit->simpletransformers) (6.0.3)\n",
      "Requirement already satisfied: pywin32>=1.0; sys_platform == \"win32\" in c:\\users\\sofia.zabit\\anaconda3\\lib\\site-packages (from jupyter-core>=4.6.0->jupyter-client->ipykernel>=5.1.2; python_version >= \"3.4\"->pydeck>=0.1.dev5->streamlit->simpletransformers) (227)\n",
      "Requirement already satisfied: wcwidth in c:\\users\\sofia.zabit\\anaconda3\\lib\\site-packages (from prompt-toolkit!=3.0.0,!=3.0.1,<3.1.0,>=2.0.0->ipython>=5.0.0->ipykernel>=5.1.2; python_version >= \"3.4\"->pydeck>=0.1.dev5->streamlit->simpletransformers) (0.2.5)\n",
      "Requirement already satisfied: parso<0.8.0,>=0.7.0 in c:\\users\\sofia.zabit\\anaconda3\\lib\\site-packages (from jedi>=0.10->ipython>=5.0.0->ipykernel>=5.1.2; python_version >= \"3.4\"->pydeck>=0.1.dev5->streamlit->simpletransformers) (0.7.0)\n",
      "Requirement already satisfied: Send2Trash in c:\\users\\sofia.zabit\\anaconda3\\lib\\site-packages (from notebook>=4.4.1->widgetsnbextension~=3.5.0->ipywidgets>=7.0.0->pydeck>=0.1.dev5->streamlit->simpletransformers) (1.5.0)\n",
      "Requirement already satisfied: terminado>=0.8.1 in c:\\users\\sofia.zabit\\anaconda3\\lib\\site-packages (from notebook>=4.4.1->widgetsnbextension~=3.5.0->ipywidgets>=7.0.0->pydeck>=0.1.dev5->streamlit->simpletransformers) (0.8.3)\n",
      "Requirement already satisfied: prometheus-client in c:\\users\\sofia.zabit\\anaconda3\\lib\\site-packages (from notebook>=4.4.1->widgetsnbextension~=3.5.0->ipywidgets>=7.0.0->pydeck>=0.1.dev5->streamlit->simpletransformers) (0.8.0)\n",
      "Requirement already satisfied: nbconvert in c:\\users\\sofia.zabit\\anaconda3\\lib\\site-packages (from notebook>=4.4.1->widgetsnbextension~=3.5.0->ipywidgets>=7.0.0->pydeck>=0.1.dev5->streamlit->simpletransformers) (5.6.1)\n",
      "Requirement already satisfied: defusedxml in c:\\users\\sofia.zabit\\anaconda3\\lib\\site-packages (from nbconvert->notebook>=4.4.1->widgetsnbextension~=3.5.0->ipywidgets>=7.0.0->pydeck>=0.1.dev5->streamlit->simpletransformers) (0.6.0)\n",
      "Requirement already satisfied: mistune<2,>=0.8.1 in c:\\users\\sofia.zabit\\anaconda3\\lib\\site-packages (from nbconvert->notebook>=4.4.1->widgetsnbextension~=3.5.0->ipywidgets>=7.0.0->pydeck>=0.1.dev5->streamlit->simpletransformers) (0.8.4)\n",
      "Requirement already satisfied: pandocfilters>=1.4.1 in c:\\users\\sofia.zabit\\anaconda3\\lib\\site-packages (from nbconvert->notebook>=4.4.1->widgetsnbextension~=3.5.0->ipywidgets>=7.0.0->pydeck>=0.1.dev5->streamlit->simpletransformers) (1.4.2)\n",
      "Requirement already satisfied: testpath in c:\\users\\sofia.zabit\\anaconda3\\lib\\site-packages (from nbconvert->notebook>=4.4.1->widgetsnbextension~=3.5.0->ipywidgets>=7.0.0->pydeck>=0.1.dev5->streamlit->simpletransformers) (0.4.4)\n",
      "Requirement already satisfied: bleach in c:\\users\\sofia.zabit\\anaconda3\\lib\\site-packages (from nbconvert->notebook>=4.4.1->widgetsnbextension~=3.5.0->ipywidgets>=7.0.0->pydeck>=0.1.dev5->streamlit->simpletransformers) (3.1.5)\n",
      "Requirement already satisfied: webencodings in c:\\users\\sofia.zabit\\anaconda3\\lib\\site-packages (from bleach->nbconvert->notebook>=4.4.1->widgetsnbextension~=3.5.0->ipywidgets>=7.0.0->pydeck>=0.1.dev5->streamlit->simpletransformers) (0.5.1)\n"
     ]
    }
   ],
   "source": [
    "#!pip3 install --upgrade transformers\n",
    "!pip install simpletransformers"
   ]
  },
  {
   "cell_type": "code",
   "execution_count": 113,
   "metadata": {},
   "outputs": [
    {
     "name": "stdout",
     "output_type": "stream",
     "text": [
      "Requirement already satisfied: textfeatures in c:\\users\\sofia.zabit\\anaconda3\\lib\\site-packages (0.0.2)\n",
      "Requirement already satisfied: nltk in c:\\users\\sofia.zabit\\anaconda3\\lib\\site-packages (from textfeatures) (3.5)\n",
      "Requirement already satisfied: regex in c:\\users\\sofia.zabit\\anaconda3\\lib\\site-packages (from nltk->textfeatures) (2020.6.8)\n",
      "Requirement already satisfied: joblib in c:\\users\\sofia.zabit\\anaconda3\\lib\\site-packages (from nltk->textfeatures) (0.16.0)\n",
      "Requirement already satisfied: tqdm in c:\\users\\sofia.zabit\\anaconda3\\lib\\site-packages (from nltk->textfeatures) (4.56.0)\n",
      "Requirement already satisfied: click in c:\\users\\sofia.zabit\\anaconda3\\lib\\site-packages (from nltk->textfeatures) (7.1.2)\n"
     ]
    }
   ],
   "source": [
    "!pip install textfeatures"
   ]
  },
  {
   "cell_type": "code",
   "execution_count": 2,
   "metadata": {
    "id": "Z5MkQnjU9SXw"
   },
   "outputs": [],
   "source": [
    "#!pip3 install sentencepiece"
   ]
  },
  {
   "cell_type": "code",
   "execution_count": 3,
   "metadata": {
    "id": "HGwuMQ2yDgph"
   },
   "outputs": [
    {
     "name": "stderr",
     "output_type": "stream",
     "text": [
      "[nltk_data] Error loading stopwords: <urlopen error [Errno 11001]\n",
      "[nltk_data]     getaddrinfo failed>\n"
     ]
    }
   ],
   "source": [
    "import pandas as pd\n",
    "import numpy as np\n",
    "import sklearn\n",
    "from tqdm import tqdm, notebook\n",
    "from tqdm import tqdm\n",
    "import textfeatures as tf"
   ]
  },
  {
   "cell_type": "code",
   "execution_count": 4,
   "metadata": {
    "id": "GAlbqsGwxwFF"
   },
   "outputs": [],
   "source": [
    "#from google.colab import drive\n",
    "#drive.mount('/content/drive')"
   ]
  },
  {
   "cell_type": "code",
   "execution_count": 5,
   "metadata": {
    "id": "ZndAHLej3uY2",
    "scrolled": true
   },
   "outputs": [
    {
     "data": {
      "text/html": [
       "<div>\n",
       "<style scoped>\n",
       "    .dataframe tbody tr th:only-of-type {\n",
       "        vertical-align: middle;\n",
       "    }\n",
       "\n",
       "    .dataframe tbody tr th {\n",
       "        vertical-align: top;\n",
       "    }\n",
       "\n",
       "    .dataframe thead th {\n",
       "        text-align: right;\n",
       "    }\n",
       "</style>\n",
       "<table border=\"1\" class=\"dataframe\">\n",
       "  <thead>\n",
       "    <tr style=\"text-align: right;\">\n",
       "      <th></th>\n",
       "      <th>index</th>\n",
       "      <th>id</th>\n",
       "      <th>Text</th>\n",
       "      <th>Annotation</th>\n",
       "      <th>oh_label</th>\n",
       "    </tr>\n",
       "  </thead>\n",
       "  <tbody>\n",
       "    <tr>\n",
       "      <th>0</th>\n",
       "      <td>5.35198627292254E+017</td>\n",
       "      <td>5.35198627292254E+017</td>\n",
       "      <td>RT @BeepsS: @senna1 @BeepsS: I'm not sexist bu...</td>\n",
       "      <td>sexism</td>\n",
       "      <td>1.0</td>\n",
       "    </tr>\n",
       "    <tr>\n",
       "      <th>1</th>\n",
       "      <td>5.75984924030714E+017</td>\n",
       "      <td>5.75984924030714E+017</td>\n",
       "      <td>There's some very hate able teams this year #MKR</td>\n",
       "      <td>none</td>\n",
       "      <td>0.0</td>\n",
       "    </tr>\n",
       "    <tr>\n",
       "      <th>2</th>\n",
       "      <td>5.7233536016588E+017</td>\n",
       "      <td>5.7233536016588E+017</td>\n",
       "      <td>RT @The_Eccles: \"Everyone underestimated us\" \\...</td>\n",
       "      <td>none</td>\n",
       "      <td>0.0</td>\n",
       "    </tr>\n",
       "    <tr>\n",
       "      <th>3</th>\n",
       "      <td>5.72337925708374E+017</td>\n",
       "      <td>5.72337925708374E+017</td>\n",
       "      <td>RT @NOTLukeDarcy: did @Channel7 or #MKR actual...</td>\n",
       "      <td>none</td>\n",
       "      <td>0.0</td>\n",
       "    </tr>\n",
       "    <tr>\n",
       "      <th>4</th>\n",
       "      <td>4.43033024528011E+017</td>\n",
       "      <td>4.43033024528011E+017</td>\n",
       "      <td>No, you don't. @Shut_Up_Jeff: I thought of a r...</td>\n",
       "      <td>sexism</td>\n",
       "      <td>1.0</td>\n",
       "    </tr>\n",
       "  </tbody>\n",
       "</table>\n",
       "</div>"
      ],
      "text/plain": [
       "                   index                     id  \\\n",
       "0  5.35198627292254E+017  5.35198627292254E+017   \n",
       "1  5.75984924030714E+017  5.75984924030714E+017   \n",
       "2   5.7233536016588E+017   5.7233536016588E+017   \n",
       "3  5.72337925708374E+017  5.72337925708374E+017   \n",
       "4  4.43033024528011E+017  4.43033024528011E+017   \n",
       "\n",
       "                                                Text Annotation  oh_label  \n",
       "0  RT @BeepsS: @senna1 @BeepsS: I'm not sexist bu...     sexism       1.0  \n",
       "1   There's some very hate able teams this year #MKR       none       0.0  \n",
       "2  RT @The_Eccles: \"Everyone underestimated us\" \\...       none       0.0  \n",
       "3  RT @NOTLukeDarcy: did @Channel7 or #MKR actual...       none       0.0  \n",
       "4  No, you don't. @Shut_Up_Jeff: I thought of a r...     sexism       1.0  "
      ]
     },
     "execution_count": 5,
     "metadata": {},
     "output_type": "execute_result"
    }
   ],
   "source": [
    "\n",
    "df = pd.read_csv('twitter_sexism_parsed_dataset.csv',encoding = 'iso-8859-1')#,names=['id', 'text', 'ICD_Chapter', 'label'])\n",
    "df.head()"
   ]
  },
  {
   "cell_type": "code",
   "execution_count": 6,
   "metadata": {
    "scrolled": true
   },
   "outputs": [
    {
     "data": {
      "text/plain": [
       "index         0\n",
       "id            1\n",
       "Text          1\n",
       "Annotation    3\n",
       "oh_label      3\n",
       "dtype: int64"
      ]
     },
     "execution_count": 6,
     "metadata": {},
     "output_type": "execute_result"
    }
   ],
   "source": [
    "df.isnull().sum()"
   ]
  },
  {
   "cell_type": "code",
   "execution_count": 7,
   "metadata": {},
   "outputs": [],
   "source": [
    "df['Text']=df['Text'].fillna(\"\")\n",
    "\n",
    "\n",
    "df['oh_label'] = df['oh_label'].fillna(0)"
   ]
  },
  {
   "cell_type": "code",
   "execution_count": 8,
   "metadata": {},
   "outputs": [
    {
     "data": {
      "text/html": [
       "<div>\n",
       "<style scoped>\n",
       "    .dataframe tbody tr th:only-of-type {\n",
       "        vertical-align: middle;\n",
       "    }\n",
       "\n",
       "    .dataframe tbody tr th {\n",
       "        vertical-align: top;\n",
       "    }\n",
       "\n",
       "    .dataframe thead th {\n",
       "        text-align: right;\n",
       "    }\n",
       "</style>\n",
       "<table border=\"1\" class=\"dataframe\">\n",
       "  <thead>\n",
       "    <tr style=\"text-align: right;\">\n",
       "      <th></th>\n",
       "      <th>Text</th>\n",
       "      <th>stopword</th>\n",
       "    </tr>\n",
       "  </thead>\n",
       "  <tbody>\n",
       "    <tr>\n",
       "      <th>0</th>\n",
       "      <td>RT @BeepsS: @senna1 @BeepsS: I'm not sexist bu...</td>\n",
       "      <td>[not, but, if, you're, a, and, you, your]</td>\n",
       "    </tr>\n",
       "    <tr>\n",
       "      <th>1</th>\n",
       "      <td>There's some very hate able teams this year #MKR</td>\n",
       "      <td>[some, very, this]</td>\n",
       "    </tr>\n",
       "    <tr>\n",
       "      <th>2</th>\n",
       "      <td>RT @The_Eccles: \"Everyone underestimated us\" \\...</td>\n",
       "      <td>[as, as, the]</td>\n",
       "    </tr>\n",
       "    <tr>\n",
       "      <th>3</th>\n",
       "      <td>RT @NOTLukeDarcy: did @Channel7 or #MKR actual...</td>\n",
       "      <td>[did, or, if, any, of, these]</td>\n",
       "    </tr>\n",
       "    <tr>\n",
       "      <th>4</th>\n",
       "      <td>No, you don't. @Shut_Up_Jeff: I thought of a r...</td>\n",
       "      <td>[you, of, a, and, not, but, have, to]</td>\n",
       "    </tr>\n",
       "  </tbody>\n",
       "</table>\n",
       "</div>"
      ],
      "text/plain": [
       "                                                Text  \\\n",
       "0  RT @BeepsS: @senna1 @BeepsS: I'm not sexist bu...   \n",
       "1   There's some very hate able teams this year #MKR   \n",
       "2  RT @The_Eccles: \"Everyone underestimated us\" \\...   \n",
       "3  RT @NOTLukeDarcy: did @Channel7 or #MKR actual...   \n",
       "4  No, you don't. @Shut_Up_Jeff: I thought of a r...   \n",
       "\n",
       "                                    stopword  \n",
       "0  [not, but, if, you're, a, and, you, your]  \n",
       "1                         [some, very, this]  \n",
       "2                              [as, as, the]  \n",
       "3              [did, or, if, any, of, these]  \n",
       "4      [you, of, a, and, not, but, have, to]  "
      ]
     },
     "execution_count": 8,
     "metadata": {},
     "output_type": "execute_result"
    }
   ],
   "source": [
    "# Removed the stopword\n",
    "tf.stopwords(df,\"Text\",\"stopword\")\n",
    "df[[\"Text\",\"stopword\"]].head()"
   ]
  },
  {
   "cell_type": "code",
   "execution_count": 9,
   "metadata": {},
   "outputs": [
    {
     "data": {
      "text/html": [
       "<div>\n",
       "<style scoped>\n",
       "    .dataframe tbody tr th:only-of-type {\n",
       "        vertical-align: middle;\n",
       "    }\n",
       "\n",
       "    .dataframe tbody tr th {\n",
       "        vertical-align: top;\n",
       "    }\n",
       "\n",
       "    .dataframe thead th {\n",
       "        text-align: right;\n",
       "    }\n",
       "</style>\n",
       "<table border=\"1\" class=\"dataframe\">\n",
       "  <thead>\n",
       "    <tr style=\"text-align: right;\">\n",
       "      <th></th>\n",
       "      <th>Text</th>\n",
       "      <th>CText</th>\n",
       "    </tr>\n",
       "  </thead>\n",
       "  <tbody>\n",
       "    <tr>\n",
       "      <th>0</th>\n",
       "      <td>RT @BeepsS: @senna1 @BeepsS: I'm not sexist bu...</td>\n",
       "      <td>beepss senna beepss sexist fuck youre woman ca...</td>\n",
       "    </tr>\n",
       "    <tr>\n",
       "      <th>1</th>\n",
       "      <td>There's some very hate able teams this year #MKR</td>\n",
       "      <td>theres hate able teams year</td>\n",
       "    </tr>\n",
       "    <tr>\n",
       "      <th>2</th>\n",
       "      <td>RT @The_Eccles: \"Everyone underestimated us\" \\...</td>\n",
       "      <td>the_eccles everyone underestimated still well ...</td>\n",
       "    </tr>\n",
       "    <tr>\n",
       "      <th>3</th>\n",
       "      <td>RT @NOTLukeDarcy: did @Channel7 or #MKR actual...</td>\n",
       "      <td>notlukedarcy channel actually check people cou...</td>\n",
       "    </tr>\n",
       "    <tr>\n",
       "      <th>4</th>\n",
       "      <td>No, you don't. @Shut_Up_Jeff: I thought of a r...</td>\n",
       "      <td>dont shut_up_jeff thought really funny joke pr...</td>\n",
       "    </tr>\n",
       "  </tbody>\n",
       "</table>\n",
       "</div>"
      ],
      "text/plain": [
       "                                                Text  \\\n",
       "0  RT @BeepsS: @senna1 @BeepsS: I'm not sexist bu...   \n",
       "1   There's some very hate able teams this year #MKR   \n",
       "2  RT @The_Eccles: \"Everyone underestimated us\" \\...   \n",
       "3  RT @NOTLukeDarcy: did @Channel7 or #MKR actual...   \n",
       "4  No, you don't. @Shut_Up_Jeff: I thought of a r...   \n",
       "\n",
       "                                               CText  \n",
       "0  beepss senna beepss sexist fuck youre woman ca...  \n",
       "1                        theres hate able teams year  \n",
       "2  the_eccles everyone underestimated still well ...  \n",
       "3  notlukedarcy channel actually check people cou...  \n",
       "4  dont shut_up_jeff thought really funny joke pr...  "
      ]
     },
     "execution_count": 9,
     "metadata": {},
     "output_type": "execute_result"
    }
   ],
   "source": [
    "tf.clean(df,\"Text\",\"CText\")\n",
    "df[[\"Text\",\"CText\"]].head()"
   ]
  },
  {
   "cell_type": "code",
   "execution_count": 10,
   "metadata": {
    "id": "z5opJRaKD6IE"
   },
   "outputs": [
    {
     "data": {
      "text/plain": [
       "Index(['index', 'id', 'Text', 'Annotation', 'oh_label', 'stopword', 'CText'], dtype='object')"
      ]
     },
     "execution_count": 10,
     "metadata": {},
     "output_type": "execute_result"
    }
   ],
   "source": [
    "df.columns"
   ]
  },
  {
   "cell_type": "code",
   "execution_count": 11,
   "metadata": {
    "id": "0198CorE515J"
   },
   "outputs": [],
   "source": [
    "df = df.iloc[:,2:]"
   ]
  },
  {
   "cell_type": "code",
   "execution_count": 12,
   "metadata": {
    "id": "uN26tnjZ56Xb"
   },
   "outputs": [
    {
     "data": {
      "text/html": [
       "<div>\n",
       "<style scoped>\n",
       "    .dataframe tbody tr th:only-of-type {\n",
       "        vertical-align: middle;\n",
       "    }\n",
       "\n",
       "    .dataframe tbody tr th {\n",
       "        vertical-align: top;\n",
       "    }\n",
       "\n",
       "    .dataframe thead th {\n",
       "        text-align: right;\n",
       "    }\n",
       "</style>\n",
       "<table border=\"1\" class=\"dataframe\">\n",
       "  <thead>\n",
       "    <tr style=\"text-align: right;\">\n",
       "      <th></th>\n",
       "      <th>Text</th>\n",
       "      <th>Annotation</th>\n",
       "      <th>oh_label</th>\n",
       "      <th>stopword</th>\n",
       "      <th>CText</th>\n",
       "    </tr>\n",
       "  </thead>\n",
       "  <tbody>\n",
       "    <tr>\n",
       "      <th>0</th>\n",
       "      <td>RT @BeepsS: @senna1 @BeepsS: I'm not sexist bu...</td>\n",
       "      <td>sexism</td>\n",
       "      <td>1.0</td>\n",
       "      <td>[not, but, if, you're, a, and, you, your]</td>\n",
       "      <td>beepss senna beepss sexist fuck youre woman ca...</td>\n",
       "    </tr>\n",
       "    <tr>\n",
       "      <th>1</th>\n",
       "      <td>There's some very hate able teams this year #MKR</td>\n",
       "      <td>none</td>\n",
       "      <td>0.0</td>\n",
       "      <td>[some, very, this]</td>\n",
       "      <td>theres hate able teams year</td>\n",
       "    </tr>\n",
       "    <tr>\n",
       "      <th>2</th>\n",
       "      <td>RT @The_Eccles: \"Everyone underestimated us\" \\...</td>\n",
       "      <td>none</td>\n",
       "      <td>0.0</td>\n",
       "      <td>[as, as, the]</td>\n",
       "      <td>the_eccles everyone underestimated still well ...</td>\n",
       "    </tr>\n",
       "    <tr>\n",
       "      <th>3</th>\n",
       "      <td>RT @NOTLukeDarcy: did @Channel7 or #MKR actual...</td>\n",
       "      <td>none</td>\n",
       "      <td>0.0</td>\n",
       "      <td>[did, or, if, any, of, these]</td>\n",
       "      <td>notlukedarcy channel actually check people cou...</td>\n",
       "    </tr>\n",
       "    <tr>\n",
       "      <th>4</th>\n",
       "      <td>No, you don't. @Shut_Up_Jeff: I thought of a r...</td>\n",
       "      <td>sexism</td>\n",
       "      <td>1.0</td>\n",
       "      <td>[you, of, a, and, not, but, have, to]</td>\n",
       "      <td>dont shut_up_jeff thought really funny joke pr...</td>\n",
       "    </tr>\n",
       "  </tbody>\n",
       "</table>\n",
       "</div>"
      ],
      "text/plain": [
       "                                                Text Annotation  oh_label  \\\n",
       "0  RT @BeepsS: @senna1 @BeepsS: I'm not sexist bu...     sexism       1.0   \n",
       "1   There's some very hate able teams this year #MKR       none       0.0   \n",
       "2  RT @The_Eccles: \"Everyone underestimated us\" \\...       none       0.0   \n",
       "3  RT @NOTLukeDarcy: did @Channel7 or #MKR actual...       none       0.0   \n",
       "4  No, you don't. @Shut_Up_Jeff: I thought of a r...     sexism       1.0   \n",
       "\n",
       "                                    stopword  \\\n",
       "0  [not, but, if, you're, a, and, you, your]   \n",
       "1                         [some, very, this]   \n",
       "2                              [as, as, the]   \n",
       "3              [did, or, if, any, of, these]   \n",
       "4      [you, of, a, and, not, but, have, to]   \n",
       "\n",
       "                                               CText  \n",
       "0  beepss senna beepss sexist fuck youre woman ca...  \n",
       "1                        theres hate able teams year  \n",
       "2  the_eccles everyone underestimated still well ...  \n",
       "3  notlukedarcy channel actually check people cou...  \n",
       "4  dont shut_up_jeff thought really funny joke pr...  "
      ]
     },
     "execution_count": 12,
     "metadata": {},
     "output_type": "execute_result"
    }
   ],
   "source": [
    "df.head()"
   ]
  },
  {
   "cell_type": "code",
   "execution_count": 13,
   "metadata": {
    "id": "it024bOpMjVB"
   },
   "outputs": [],
   "source": [
    "df = df[['CText', 'oh_label']]"
   ]
  },
  {
   "cell_type": "code",
   "execution_count": 14,
   "metadata": {},
   "outputs": [],
   "source": [
    "df.rename(columns={'CText':'Text','oh_label':'label'}, inplace = True)"
   ]
  },
  {
   "cell_type": "code",
   "execution_count": 15,
   "metadata": {},
   "outputs": [],
   "source": [
    "df.label = df.label.astype('int64')"
   ]
  },
  {
   "cell_type": "code",
   "execution_count": 16,
   "metadata": {
    "id": "mZh0FZjGHP3P",
    "scrolled": true
   },
   "outputs": [
    {
     "name": "stdout",
     "output_type": "stream",
     "text": [
      "Text     object\n",
      "label     int64\n",
      "dtype: object\n"
     ]
    }
   ],
   "source": [
    "df.label = pd.to_numeric(df.label, errors='coerce')\n",
    "print(df.dtypes)"
   ]
  },
  {
   "cell_type": "code",
   "execution_count": 17,
   "metadata": {},
   "outputs": [],
   "source": [
    "df.Text = str(df['Text']).rstrip()\n"
   ]
  },
  {
   "cell_type": "code",
   "execution_count": 18,
   "metadata": {
    "id": "DwTN49OOHe11",
    "scrolled": true
   },
   "outputs": [
    {
     "data": {
      "text/plain": [
       "2"
      ]
     },
     "execution_count": 18,
     "metadata": {},
     "output_type": "execute_result"
    }
   ],
   "source": [
    "sorted(df.label.unique())\n",
    "num_labels = df.label.nunique()\n",
    "num_labels"
   ]
  },
  {
   "cell_type": "code",
   "execution_count": 19,
   "metadata": {
    "id": "bgYbCTQGVPbE"
   },
   "outputs": [
    {
     "name": "stdout",
     "output_type": "stream",
     "text": [
      "[1 0]\n"
     ]
    }
   ],
   "source": [
    "possible_labels = df.label.unique()\n",
    "print(possible_labels)"
   ]
  },
  {
   "cell_type": "code",
   "execution_count": 20,
   "metadata": {
    "id": "Ky4ei6XqVQX_"
   },
   "outputs": [],
   "source": [
    "label_dict = {}\n",
    "for index, possible_label in enumerate(possible_labels):\n",
    "    label_dict[possible_label] = index"
   ]
  },
  {
   "cell_type": "code",
   "execution_count": 21,
   "metadata": {},
   "outputs": [
    {
     "data": {
      "text/plain": [
       "Text     object\n",
       "label     int64\n",
       "dtype: object"
      ]
     },
     "execution_count": 21,
     "metadata": {},
     "output_type": "execute_result"
    }
   ],
   "source": [
    "df.dtypes"
   ]
  },
  {
   "cell_type": "code",
   "execution_count": 22,
   "metadata": {
    "id": "Syq1OPOsVVD6"
   },
   "outputs": [],
   "source": [
    "df['label'] = df.label.replace(label_dict)"
   ]
  },
  {
   "cell_type": "code",
   "execution_count": 23,
   "metadata": {
    "id": "-knVcyrfOvGS"
   },
   "outputs": [],
   "source": [
    "from sklearn.model_selection import train_test_split\n",
    "#target = 'label'\n",
    "\n",
    "train_df, eval_df = train_test_split(df, test_size=0.2)#,stratify=df.label.values)"
   ]
  },
  {
   "cell_type": "code",
   "execution_count": 24,
   "metadata": {
    "id": "N7Om75qQO1O1"
   },
   "outputs": [
    {
     "name": "stderr",
     "output_type": "stream",
     "text": [
      "Some weights of the model checkpoint at roberta-base were not used when initializing RobertaForSequenceClassification: ['lm_head.bias', 'lm_head.dense.weight', 'lm_head.dense.bias', 'lm_head.layer_norm.weight', 'lm_head.layer_norm.bias', 'lm_head.decoder.weight']\n",
      "- This IS expected if you are initializing RobertaForSequenceClassification from the checkpoint of a model trained on another task or with another architecture (e.g. initializing a BertForSequenceClassification model from a BertForPretraining model).\n",
      "- This IS NOT expected if you are initializing RobertaForSequenceClassification from the checkpoint of a model that you expect to be exactly identical (initializing a BertForSequenceClassification model from a BertForSequenceClassification model).\n",
      "Some weights of RobertaForSequenceClassification were not initialized from the model checkpoint at roberta-base and are newly initialized: ['classifier.dense.weight', 'classifier.dense.bias', 'classifier.out_proj.weight', 'classifier.out_proj.bias']\n",
      "You should probably TRAIN this model on a down-stream task to be able to use it for predictions and inference.\n"
     ]
    }
   ],
   "source": [
    "\n",
    "from simpletransformers.classification import ClassificationModel\n",
    "\n",
    "model_args = {\n",
    "    \"num_train_epochs\": 1,\n",
    "    \"learning_rate\": 4e-5,\n",
    "    \"train_batch_size\": 32,\n",
    "    'overwrite_output_dir':True\n",
    "}\n",
    "\n",
    "# Create a ClassificationModel\n",
    "model = ClassificationModel('roberta', 'roberta-base', num_labels=num_labels, use_cuda=False, args=model_args)"
   ]
  },
  {
   "cell_type": "code",
   "execution_count": 25,
   "metadata": {
    "id": "HcH7h7btE4LH"
   },
   "outputs": [
    {
     "name": "stderr",
     "output_type": "stream",
     "text": [
      "C:\\Users\\sofia.zabit\\Anaconda3\\lib\\site-packages\\simpletransformers\\classification\\classification_model.py:379: UserWarning: Dataframe headers not specified. Falling back to using column 0 as text and column 1 as labels.\n",
      "  warnings.warn(\n"
     ]
    },
    {
     "data": {
      "application/vnd.jupyter.widget-view+json": {
       "model_id": "2559ab33bdae45979b5a26816a98054e",
       "version_major": 2,
       "version_minor": 0
      },
      "text/plain": [
       "  0%|          | 0/11904 [00:00<?, ?it/s]"
      ]
     },
     "metadata": {},
     "output_type": "display_data"
    },
    {
     "data": {
      "application/vnd.jupyter.widget-view+json": {
       "model_id": "c3a96a40e8724ef785caebd130e08e11",
       "version_major": 2,
       "version_minor": 0
      },
      "text/plain": [
       "Epoch:   0%|          | 0/1 [00:00<?, ?it/s]"
      ]
     },
     "metadata": {},
     "output_type": "display_data"
    },
    {
     "data": {
      "application/vnd.jupyter.widget-view+json": {
       "model_id": "7c1c1980801747b5bb249a1c0f599a7e",
       "version_major": 2,
       "version_minor": 0
      },
      "text/plain": [
       "Running Epoch 0 of 1:   0%|          | 0/372 [00:00<?, ?it/s]"
      ]
     },
     "metadata": {},
     "output_type": "display_data"
    },
    {
     "name": "stderr",
     "output_type": "stream",
     "text": [
      "C:\\Users\\sofia.zabit\\Anaconda3\\lib\\site-packages\\torch\\optim\\lr_scheduler.py:216: UserWarning: Please also save or load the state of the optimizer when saving or loading the scheduler.\n",
      "  warnings.warn(SAVE_STATE_WARNING, UserWarning)\n"
     ]
    },
    {
     "name": "stdout",
     "output_type": "stream",
     "text": [
      "Wall time: 4h 13min 30s\n"
     ]
    },
    {
     "data": {
      "text/plain": [
       "(372, 0.5460545215555417)"
      ]
     },
     "execution_count": 25,
     "metadata": {},
     "output_type": "execute_result"
    }
   ],
   "source": [
    "%%time\n",
    "# Train the model\n",
    "model.train_model(train_df)"
   ]
  },
  {
   "cell_type": "code",
   "execution_count": 26,
   "metadata": {
    "id": "jwahPwyHNli7"
   },
   "outputs": [
    {
     "name": "stderr",
     "output_type": "stream",
     "text": [
      "C:\\Users\\sofia.zabit\\Anaconda3\\lib\\site-packages\\simpletransformers\\classification\\classification_model.py:900: UserWarning: Dataframe headers not specified. Falling back to using column 0 as text and column 1 as labels.\n",
      "  warnings.warn(\n"
     ]
    },
    {
     "data": {
      "application/vnd.jupyter.widget-view+json": {
       "model_id": "8d4096dafd00470ea7f40481750d1982",
       "version_major": 2,
       "version_minor": 0
      },
      "text/plain": [
       "  0%|          | 0/2977 [00:00<?, ?it/s]"
      ]
     },
     "metadata": {},
     "output_type": "display_data"
    },
    {
     "data": {
      "application/vnd.jupyter.widget-view+json": {
       "model_id": "4cd08dca00c0429b9ae0399232b83b8c",
       "version_major": 2,
       "version_minor": 0
      },
      "text/plain": [
       "Running Evaluation:   0%|          | 0/373 [00:00<?, ?it/s]"
      ]
     },
     "metadata": {},
     "output_type": "display_data"
    },
    {
     "name": "stderr",
     "output_type": "stream",
     "text": [
      "C:\\Users\\sofia.zabit\\Anaconda3\\lib\\site-packages\\sklearn\\metrics\\_classification.py:846: RuntimeWarning: invalid value encountered in double_scalars\n",
      "  mcc = cov_ytyp / np.sqrt(cov_ytyt * cov_ypyp)\n"
     ]
    }
   ],
   "source": [
    "result, model_outputs, wrong_predictions = model.eval_model(eval_df)"
   ]
  },
  {
   "cell_type": "code",
   "execution_count": 27,
   "metadata": {
    "id": "ujpyM-Y_NpcJ"
   },
   "outputs": [
    {
     "data": {
      "application/vnd.jupyter.widget-view+json": {
       "model_id": "9dd49bd684394973a69dc09d2cbe6b43",
       "version_major": 2,
       "version_minor": 0
      },
      "text/plain": [
       "  0%|          | 0/2977 [00:00<?, ?it/s]"
      ]
     },
     "metadata": {},
     "output_type": "display_data"
    },
    {
     "data": {
      "application/vnd.jupyter.widget-view+json": {
       "model_id": "fa427553efe5432d81a890b1ffe19fc4",
       "version_major": 2,
       "version_minor": 0
      },
      "text/plain": [
       "Running Evaluation:   0%|          | 0/373 [00:00<?, ?it/s]"
      ]
     },
     "metadata": {},
     "output_type": "display_data"
    }
   ],
   "source": [
    "\n",
    "from sklearn.metrics import f1_score, accuracy_score, classification_report\n",
    "\n",
    "\n",
    "def f1_multiclass(labels, preds):\n",
    "    return f1_score(labels, preds, average='micro')\n",
    "    \n",
    "result, model_outputs, wrong_predictions = model.eval_model(eval_df, f1=f1_multiclass, acc=accuracy_score)\n"
   ]
  },
  {
   "cell_type": "code",
   "execution_count": 28,
   "metadata": {
    "id": "2M33ITUgk8Ul"
   },
   "outputs": [],
   "source": [
    "from sklearn.metrics import f1_score, accuracy_score, classification_report"
   ]
  },
  {
   "cell_type": "code",
   "execution_count": 29,
   "metadata": {
    "id": "q5UCp4KNO1Rt"
   },
   "outputs": [
    {
     "data": {
      "text/plain": [
       "({'mcc': 0.0,\n",
       "  'tp': 2284,\n",
       "  'tn': 0,\n",
       "  'fp': 693,\n",
       "  'fn': 0,\n",
       "  'f1': 0.7672153174336579,\n",
       "  'acc': 0.767215317433658,\n",
       "  'eval_loss': 0.5447804159197667},\n",
       " array([[-0.51951814,  0.67935193],\n",
       "        [-0.51951814,  0.67935193],\n",
       "        [-0.51951814,  0.67935193],\n",
       "        ...,\n",
       "        [-0.51951808,  0.67935205],\n",
       "        [-0.51951808,  0.67935205],\n",
       "        [-0.51951814,  0.67935205]]),\n",
       " [<simpletransformers.classification.classification_utils.InputExample at 0x174eea4e1c0>,\n",
       "  <simpletransformers.classification.classification_utils.InputExample at 0x174eedf92b0>,\n",
       "  <simpletransformers.classification.classification_utils.InputExample at 0x174eedf9f40>,\n",
       "  <simpletransformers.classification.classification_utils.InputExample at 0x174eeabacd0>,\n",
       "  <simpletransformers.classification.classification_utils.InputExample at 0x174eeabad60>,\n",
       "  <simpletransformers.classification.classification_utils.InputExample at 0x174eeabadc0>,\n",
       "  <simpletransformers.classification.classification_utils.InputExample at 0x174eee9e4c0>,\n",
       "  <simpletransformers.classification.classification_utils.InputExample at 0x174eee9eb80>,\n",
       "  <simpletransformers.classification.classification_utils.InputExample at 0x174eee9ef70>,\n",
       "  <simpletransformers.classification.classification_utils.InputExample at 0x174eed4aa60>,\n",
       "  <simpletransformers.classification.classification_utils.InputExample at 0x174eed4af40>,\n",
       "  <simpletransformers.classification.classification_utils.InputExample at 0x174eed4ab20>,\n",
       "  <simpletransformers.classification.classification_utils.InputExample at 0x174eee7f0d0>,\n",
       "  <simpletransformers.classification.classification_utils.InputExample at 0x174eee7fd60>,\n",
       "  <simpletransformers.classification.classification_utils.InputExample at 0x174eee7fdc0>,\n",
       "  <simpletransformers.classification.classification_utils.InputExample at 0x174eee7fe20>,\n",
       "  <simpletransformers.classification.classification_utils.InputExample at 0x174eee7f4f0>,\n",
       "  <simpletransformers.classification.classification_utils.InputExample at 0x1748dfb5130>,\n",
       "  <simpletransformers.classification.classification_utils.InputExample at 0x1748dfb5310>,\n",
       "  <simpletransformers.classification.classification_utils.InputExample at 0x1748dfb5400>,\n",
       "  <simpletransformers.classification.classification_utils.InputExample at 0x1748dfb5460>,\n",
       "  <simpletransformers.classification.classification_utils.InputExample at 0x1748dfb57f0>,\n",
       "  <simpletransformers.classification.classification_utils.InputExample at 0x1748dfb58b0>,\n",
       "  <simpletransformers.classification.classification_utils.InputExample at 0x1748dfb59d0>,\n",
       "  <simpletransformers.classification.classification_utils.InputExample at 0x1748dfb5af0>,\n",
       "  <simpletransformers.classification.classification_utils.InputExample at 0x1748dfb5b50>,\n",
       "  <simpletransformers.classification.classification_utils.InputExample at 0x1748dfb5e80>,\n",
       "  <simpletransformers.classification.classification_utils.InputExample at 0x1748dfb5f40>,\n",
       "  <simpletransformers.classification.classification_utils.InputExample at 0x1748e51a0d0>,\n",
       "  <simpletransformers.classification.classification_utils.InputExample at 0x1748e51a1f0>,\n",
       "  <simpletransformers.classification.classification_utils.InputExample at 0x1748e51a430>,\n",
       "  <simpletransformers.classification.classification_utils.InputExample at 0x1748e51a490>,\n",
       "  <simpletransformers.classification.classification_utils.InputExample at 0x1748e51a5b0>,\n",
       "  <simpletransformers.classification.classification_utils.InputExample at 0x1748e51a790>,\n",
       "  <simpletransformers.classification.classification_utils.InputExample at 0x1748e51a970>,\n",
       "  <simpletransformers.classification.classification_utils.InputExample at 0x1748e724520>,\n",
       "  <simpletransformers.classification.classification_utils.InputExample at 0x1749445c670>,\n",
       "  <simpletransformers.classification.classification_utils.InputExample at 0x1749445c460>,\n",
       "  <simpletransformers.classification.classification_utils.InputExample at 0x1749445cc10>,\n",
       "  <simpletransformers.classification.classification_utils.InputExample at 0x1749445cd30>,\n",
       "  <simpletransformers.classification.classification_utils.InputExample at 0x1749445cc40>,\n",
       "  <simpletransformers.classification.classification_utils.InputExample at 0x1749445ceb0>,\n",
       "  <simpletransformers.classification.classification_utils.InputExample at 0x1749445c2b0>,\n",
       "  <simpletransformers.classification.classification_utils.InputExample at 0x1749445c550>,\n",
       "  <simpletransformers.classification.classification_utils.InputExample at 0x1749445c820>,\n",
       "  <simpletransformers.classification.classification_utils.InputExample at 0x174eee96700>,\n",
       "  <simpletransformers.classification.classification_utils.InputExample at 0x174eee96850>,\n",
       "  <simpletransformers.classification.classification_utils.InputExample at 0x1748ec21400>,\n",
       "  <simpletransformers.classification.classification_utils.InputExample at 0x1748ec21100>,\n",
       "  <simpletransformers.classification.classification_utils.InputExample at 0x1748ec21a00>,\n",
       "  <simpletransformers.classification.classification_utils.InputExample at 0x1748ec21f40>,\n",
       "  <simpletransformers.classification.classification_utils.InputExample at 0x1748ec210a0>,\n",
       "  <simpletransformers.classification.classification_utils.InputExample at 0x1748eb24c70>,\n",
       "  <simpletransformers.classification.classification_utils.InputExample at 0x1748eb242e0>,\n",
       "  <simpletransformers.classification.classification_utils.InputExample at 0x1748eb24610>,\n",
       "  <simpletransformers.classification.classification_utils.InputExample at 0x1748eb24ca0>,\n",
       "  <simpletransformers.classification.classification_utils.InputExample at 0x1748ec23100>,\n",
       "  <simpletransformers.classification.classification_utils.InputExample at 0x1748ec234f0>,\n",
       "  <simpletransformers.classification.classification_utils.InputExample at 0x1748ec237c0>,\n",
       "  <simpletransformers.classification.classification_utils.InputExample at 0x1748ec37e20>,\n",
       "  <simpletransformers.classification.classification_utils.InputExample at 0x1748ec37b20>,\n",
       "  <simpletransformers.classification.classification_utils.InputExample at 0x1748ec37340>,\n",
       "  <simpletransformers.classification.classification_utils.InputExample at 0x1748ec37190>,\n",
       "  <simpletransformers.classification.classification_utils.InputExample at 0x1748ec379a0>,\n",
       "  <simpletransformers.classification.classification_utils.InputExample at 0x1748ec37d00>,\n",
       "  <simpletransformers.classification.classification_utils.InputExample at 0x1748ec37610>,\n",
       "  <simpletransformers.classification.classification_utils.InputExample at 0x1748ec37c70>,\n",
       "  <simpletransformers.classification.classification_utils.InputExample at 0x1748ec37e50>,\n",
       "  <simpletransformers.classification.classification_utils.InputExample at 0x1748ec379d0>,\n",
       "  <simpletransformers.classification.classification_utils.InputExample at 0x1748ec37160>,\n",
       "  <simpletransformers.classification.classification_utils.InputExample at 0x1748ec3c2e0>,\n",
       "  <simpletransformers.classification.classification_utils.InputExample at 0x1748ec3c9d0>,\n",
       "  <simpletransformers.classification.classification_utils.InputExample at 0x1748ec3c4c0>,\n",
       "  <simpletransformers.classification.classification_utils.InputExample at 0x1748ec3c880>,\n",
       "  <simpletransformers.classification.classification_utils.InputExample at 0x1748ec3ce80>,\n",
       "  <simpletransformers.classification.classification_utils.InputExample at 0x1748ec3c8e0>,\n",
       "  <simpletransformers.classification.classification_utils.InputExample at 0x1748ec3cac0>,\n",
       "  <simpletransformers.classification.classification_utils.InputExample at 0x1748ec3c9a0>,\n",
       "  <simpletransformers.classification.classification_utils.InputExample at 0x1748ec3c310>,\n",
       "  <simpletransformers.classification.classification_utils.InputExample at 0x1748ec3c8b0>,\n",
       "  <simpletransformers.classification.classification_utils.InputExample at 0x1748ec3ce20>,\n",
       "  <simpletransformers.classification.classification_utils.InputExample at 0x1748ec3e130>,\n",
       "  <simpletransformers.classification.classification_utils.InputExample at 0x1748ec3e1c0>,\n",
       "  <simpletransformers.classification.classification_utils.InputExample at 0x1748ec3e5e0>,\n",
       "  <simpletransformers.classification.classification_utils.InputExample at 0x1748ec3ed90>,\n",
       "  <simpletransformers.classification.classification_utils.InputExample at 0x1748ec3eeb0>,\n",
       "  <simpletransformers.classification.classification_utils.InputExample at 0x1748e8172b0>,\n",
       "  <simpletransformers.classification.classification_utils.InputExample at 0x1748e8173d0>,\n",
       "  <simpletransformers.classification.classification_utils.InputExample at 0x1748e8174f0>,\n",
       "  <simpletransformers.classification.classification_utils.InputExample at 0x1748e817730>,\n",
       "  <simpletransformers.classification.classification_utils.InputExample at 0x1748e8177f0>,\n",
       "  <simpletransformers.classification.classification_utils.InputExample at 0x1748e817d30>,\n",
       "  <simpletransformers.classification.classification_utils.InputExample at 0x1748e817e50>,\n",
       "  <simpletransformers.classification.classification_utils.InputExample at 0x1748e817f70>,\n",
       "  <simpletransformers.classification.classification_utils.InputExample at 0x1748ec3d250>,\n",
       "  <simpletransformers.classification.classification_utils.InputExample at 0x1748ec3d6d0>,\n",
       "  <simpletransformers.classification.classification_utils.InputExample at 0x1748ec3d9d0>,\n",
       "  <simpletransformers.classification.classification_utils.InputExample at 0x1748ec3da30>,\n",
       "  <simpletransformers.classification.classification_utils.InputExample at 0x1748ec3df70>,\n",
       "  <simpletransformers.classification.classification_utils.InputExample at 0x1748ec3dfd0>,\n",
       "  <simpletransformers.classification.classification_utils.InputExample at 0x1748ec32190>,\n",
       "  <simpletransformers.classification.classification_utils.InputExample at 0x1748ec32550>,\n",
       "  <simpletransformers.classification.classification_utils.InputExample at 0x1748ec32c70>,\n",
       "  <simpletransformers.classification.classification_utils.InputExample at 0x1748ec32d90>,\n",
       "  <simpletransformers.classification.classification_utils.InputExample at 0x1748ec32e50>,\n",
       "  <simpletransformers.classification.classification_utils.InputExample at 0x1748ec32fd0>,\n",
       "  <simpletransformers.classification.classification_utils.InputExample at 0x1748ec56250>,\n",
       "  <simpletransformers.classification.classification_utils.InputExample at 0x1748ec563d0>,\n",
       "  <simpletransformers.classification.classification_utils.InputExample at 0x1748ec56730>,\n",
       "  <simpletransformers.classification.classification_utils.InputExample at 0x1748ec56790>,\n",
       "  <simpletransformers.classification.classification_utils.InputExample at 0x1748ec56970>,\n",
       "  <simpletransformers.classification.classification_utils.InputExample at 0x1748ec569d0>,\n",
       "  <simpletransformers.classification.classification_utils.InputExample at 0x1748ec56a90>,\n",
       "  <simpletransformers.classification.classification_utils.InputExample at 0x1748ec56d30>,\n",
       "  <simpletransformers.classification.classification_utils.InputExample at 0x1748ec56d90>,\n",
       "  <simpletransformers.classification.classification_utils.InputExample at 0x1748ec49430>,\n",
       "  <simpletransformers.classification.classification_utils.InputExample at 0x1748ec49490>,\n",
       "  <simpletransformers.classification.classification_utils.InputExample at 0x1748ec49670>,\n",
       "  <simpletransformers.classification.classification_utils.InputExample at 0x1748ec49910>,\n",
       "  <simpletransformers.classification.classification_utils.InputExample at 0x1748ec49c10>,\n",
       "  <simpletransformers.classification.classification_utils.InputExample at 0x1748ec49c70>,\n",
       "  <simpletransformers.classification.classification_utils.InputExample at 0x1748ec49cd0>,\n",
       "  <simpletransformers.classification.classification_utils.InputExample at 0x1748ec49df0>,\n",
       "  <simpletransformers.classification.classification_utils.InputExample at 0x1748ec49f70>,\n",
       "  <simpletransformers.classification.classification_utils.InputExample at 0x1748ec35070>,\n",
       "  <simpletransformers.classification.classification_utils.InputExample at 0x1748ec35490>,\n",
       "  <simpletransformers.classification.classification_utils.InputExample at 0x1748ec35550>,\n",
       "  <simpletransformers.classification.classification_utils.InputExample at 0x1748ec356d0>,\n",
       "  <simpletransformers.classification.classification_utils.InputExample at 0x1748ec35730>,\n",
       "  <simpletransformers.classification.classification_utils.InputExample at 0x1748ec35850>,\n",
       "  <simpletransformers.classification.classification_utils.InputExample at 0x1748ec35af0>,\n",
       "  <simpletransformers.classification.classification_utils.InputExample at 0x1748ec35bb0>,\n",
       "  <simpletransformers.classification.classification_utils.InputExample at 0x1748ec35c70>,\n",
       "  <simpletransformers.classification.classification_utils.InputExample at 0x1748ec35cd0>,\n",
       "  <simpletransformers.classification.classification_utils.InputExample at 0x1748ec35f70>,\n",
       "  <simpletransformers.classification.classification_utils.InputExample at 0x1748ec43070>,\n",
       "  <simpletransformers.classification.classification_utils.InputExample at 0x1748ec43130>,\n",
       "  <simpletransformers.classification.classification_utils.InputExample at 0x1748ec43190>,\n",
       "  <simpletransformers.classification.classification_utils.InputExample at 0x1748ec43310>,\n",
       "  <simpletransformers.classification.classification_utils.InputExample at 0x1748ec43430>,\n",
       "  <simpletransformers.classification.classification_utils.InputExample at 0x1748ec43730>,\n",
       "  <simpletransformers.classification.classification_utils.InputExample at 0x1748ec43a30>,\n",
       "  <simpletransformers.classification.classification_utils.InputExample at 0x1748ec43af0>,\n",
       "  <simpletransformers.classification.classification_utils.InputExample at 0x1748ec43bb0>,\n",
       "  <simpletransformers.classification.classification_utils.InputExample at 0x1748ec512b0>,\n",
       "  <simpletransformers.classification.classification_utils.InputExample at 0x1748ec516d0>,\n",
       "  <simpletransformers.classification.classification_utils.InputExample at 0x1748ec51790>,\n",
       "  <simpletransformers.classification.classification_utils.InputExample at 0x1748ec51af0>,\n",
       "  <simpletransformers.classification.classification_utils.InputExample at 0x1748ec51b50>,\n",
       "  <simpletransformers.classification.classification_utils.InputExample at 0x1748ec51bb0>,\n",
       "  <simpletransformers.classification.classification_utils.InputExample at 0x1748ec407f0>,\n",
       "  <simpletransformers.classification.classification_utils.InputExample at 0x1748ec40af0>,\n",
       "  <simpletransformers.classification.classification_utils.InputExample at 0x1748ec40b50>,\n",
       "  <simpletransformers.classification.classification_utils.InputExample at 0x1748ec40bb0>,\n",
       "  <simpletransformers.classification.classification_utils.InputExample at 0x1748ec40f10>,\n",
       "  <simpletransformers.classification.classification_utils.InputExample at 0x1748ec454f0>,\n",
       "  <simpletransformers.classification.classification_utils.InputExample at 0x1748ec458b0>,\n",
       "  <simpletransformers.classification.classification_utils.InputExample at 0x1748ec45970>,\n",
       "  <simpletransformers.classification.classification_utils.InputExample at 0x1748ec45a30>,\n",
       "  <simpletransformers.classification.classification_utils.InputExample at 0x1748ec45df0>,\n",
       "  <simpletransformers.classification.classification_utils.InputExample at 0x1748ec45f10>,\n",
       "  <simpletransformers.classification.classification_utils.InputExample at 0x1748ec44730>,\n",
       "  <simpletransformers.classification.classification_utils.InputExample at 0x1748ec448b0>,\n",
       "  <simpletransformers.classification.classification_utils.InputExample at 0x1748ec44970>,\n",
       "  <simpletransformers.classification.classification_utils.InputExample at 0x1748ec449d0>,\n",
       "  <simpletransformers.classification.classification_utils.InputExample at 0x1748ec44b50>,\n",
       "  <simpletransformers.classification.classification_utils.InputExample at 0x1748ec44bb0>,\n",
       "  <simpletransformers.classification.classification_utils.InputExample at 0x1748ec44eb0>,\n",
       "  <simpletransformers.classification.classification_utils.InputExample at 0x1748ec47190>,\n",
       "  <simpletransformers.classification.classification_utils.InputExample at 0x1748ec47250>,\n",
       "  <simpletransformers.classification.classification_utils.InputExample at 0x1748ec47310>,\n",
       "  <simpletransformers.classification.classification_utils.InputExample at 0x1748ec473d0>,\n",
       "  <simpletransformers.classification.classification_utils.InputExample at 0x1748ec47670>,\n",
       "  <simpletransformers.classification.classification_utils.InputExample at 0x1748ec47730>,\n",
       "  <simpletransformers.classification.classification_utils.InputExample at 0x1748ec47a30>,\n",
       "  <simpletransformers.classification.classification_utils.InputExample at 0x1748ec47c10>,\n",
       "  <simpletransformers.classification.classification_utils.InputExample at 0x1748ec481f0>,\n",
       "  <simpletransformers.classification.classification_utils.InputExample at 0x1748ec482b0>,\n",
       "  <simpletransformers.classification.classification_utils.InputExample at 0x1748ec48490>,\n",
       "  <simpletransformers.classification.classification_utils.InputExample at 0x1748ec48550>,\n",
       "  <simpletransformers.classification.classification_utils.InputExample at 0x1748ec487f0>,\n",
       "  <simpletransformers.classification.classification_utils.InputExample at 0x1748ec48bb0>,\n",
       "  <simpletransformers.classification.classification_utils.InputExample at 0x1748ec48cd0>,\n",
       "  <simpletransformers.classification.classification_utils.InputExample at 0x1748ec4b070>,\n",
       "  <simpletransformers.classification.classification_utils.InputExample at 0x1748ec4b2b0>,\n",
       "  <simpletransformers.classification.classification_utils.InputExample at 0x1748ec4b5b0>,\n",
       "  <simpletransformers.classification.classification_utils.InputExample at 0x1748ec4b670>,\n",
       "  <simpletransformers.classification.classification_utils.InputExample at 0x1748ec4b6d0>,\n",
       "  <simpletransformers.classification.classification_utils.InputExample at 0x1748ec4b7f0>,\n",
       "  <simpletransformers.classification.classification_utils.InputExample at 0x1748ec4b910>,\n",
       "  <simpletransformers.classification.classification_utils.InputExample at 0x1748ec4baf0>,\n",
       "  <simpletransformers.classification.classification_utils.InputExample at 0x1748ec4bb50>,\n",
       "  <simpletransformers.classification.classification_utils.InputExample at 0x1748ec41070>,\n",
       "  <simpletransformers.classification.classification_utils.InputExample at 0x1748ec41130>,\n",
       "  <simpletransformers.classification.classification_utils.InputExample at 0x1748ec412b0>,\n",
       "  <simpletransformers.classification.classification_utils.InputExample at 0x1748ec41550>,\n",
       "  <simpletransformers.classification.classification_utils.InputExample at 0x1748ec41a90>,\n",
       "  <simpletransformers.classification.classification_utils.InputExample at 0x1748ec41af0>,\n",
       "  <simpletransformers.classification.classification_utils.InputExample at 0x1748ec41c10>,\n",
       "  <simpletransformers.classification.classification_utils.InputExample at 0x1748ec41d90>,\n",
       "  <simpletransformers.classification.classification_utils.InputExample at 0x1748ec41f70>,\n",
       "  <simpletransformers.classification.classification_utils.InputExample at 0x1748ec25190>,\n",
       "  <simpletransformers.classification.classification_utils.InputExample at 0x1748ec251f0>,\n",
       "  <simpletransformers.classification.classification_utils.InputExample at 0x1748ec253d0>,\n",
       "  <simpletransformers.classification.classification_utils.InputExample at 0x1748ec25490>,\n",
       "  <simpletransformers.classification.classification_utils.InputExample at 0x1748ec25790>,\n",
       "  <simpletransformers.classification.classification_utils.InputExample at 0x1748ec25850>,\n",
       "  <simpletransformers.classification.classification_utils.InputExample at 0x1748ec25eb0>,\n",
       "  <simpletransformers.classification.classification_utils.InputExample at 0x1748ec25f70>,\n",
       "  <simpletransformers.classification.classification_utils.InputExample at 0x1748ec25fd0>,\n",
       "  <simpletransformers.classification.classification_utils.InputExample at 0x1748ec54250>,\n",
       "  <simpletransformers.classification.classification_utils.InputExample at 0x1748ec54370>,\n",
       "  <simpletransformers.classification.classification_utils.InputExample at 0x1748ec54550>,\n",
       "  <simpletransformers.classification.classification_utils.InputExample at 0x1748ec546d0>,\n",
       "  <simpletransformers.classification.classification_utils.InputExample at 0x1748ec54a90>,\n",
       "  <simpletransformers.classification.classification_utils.InputExample at 0x1748ec54c10>,\n",
       "  <simpletransformers.classification.classification_utils.InputExample at 0x1748ec54cd0>,\n",
       "  <simpletransformers.classification.classification_utils.InputExample at 0x1748ec54eb0>,\n",
       "  <simpletransformers.classification.classification_utils.InputExample at 0x1748ec54fd0>,\n",
       "  <simpletransformers.classification.classification_utils.InputExample at 0x1748ec331f0>,\n",
       "  <simpletransformers.classification.classification_utils.InputExample at 0x1748ec332b0>,\n",
       "  <simpletransformers.classification.classification_utils.InputExample at 0x1748ec33370>,\n",
       "  <simpletransformers.classification.classification_utils.InputExample at 0x1748ec334f0>,\n",
       "  <simpletransformers.classification.classification_utils.InputExample at 0x1748ec33850>,\n",
       "  <simpletransformers.classification.classification_utils.InputExample at 0x1748ec33a30>,\n",
       "  <simpletransformers.classification.classification_utils.InputExample at 0x1748ec33a90>,\n",
       "  <simpletransformers.classification.classification_utils.InputExample at 0x1748ec33c10>,\n",
       "  <simpletransformers.classification.classification_utils.InputExample at 0x1748ec33cd0>,\n",
       "  <simpletransformers.classification.classification_utils.InputExample at 0x1748ec33d90>,\n",
       "  <simpletransformers.classification.classification_utils.InputExample at 0x1748ec33fd0>,\n",
       "  <simpletransformers.classification.classification_utils.InputExample at 0x1748ec4e130>,\n",
       "  <simpletransformers.classification.classification_utils.InputExample at 0x1748ec4e190>,\n",
       "  <simpletransformers.classification.classification_utils.InputExample at 0x1748ec4e790>,\n",
       "  <simpletransformers.classification.classification_utils.InputExample at 0x1748ec4e7f0>,\n",
       "  <simpletransformers.classification.classification_utils.InputExample at 0x1748ec4eaf0>,\n",
       "  <simpletransformers.classification.classification_utils.InputExample at 0x1748ec4ed90>,\n",
       "  <simpletransformers.classification.classification_utils.InputExample at 0x1748ec58070>,\n",
       "  <simpletransformers.classification.classification_utils.InputExample at 0x1748ec58250>,\n",
       "  <simpletransformers.classification.classification_utils.InputExample at 0x1748ec58310>,\n",
       "  <simpletransformers.classification.classification_utils.InputExample at 0x1748ec58670>,\n",
       "  <simpletransformers.classification.classification_utils.InputExample at 0x1748ec58910>,\n",
       "  <simpletransformers.classification.classification_utils.InputExample at 0x1748ec58fd0>,\n",
       "  <simpletransformers.classification.classification_utils.InputExample at 0x1748ec591f0>,\n",
       "  <simpletransformers.classification.classification_utils.InputExample at 0x1748ec592b0>,\n",
       "  <simpletransformers.classification.classification_utils.InputExample at 0x1748ec59550>,\n",
       "  <simpletransformers.classification.classification_utils.InputExample at 0x1748ec597f0>,\n",
       "  <simpletransformers.classification.classification_utils.InputExample at 0x1748ec59850>,\n",
       "  <simpletransformers.classification.classification_utils.InputExample at 0x1748ec599d0>,\n",
       "  <simpletransformers.classification.classification_utils.InputExample at 0x1748ec530d0>,\n",
       "  <simpletransformers.classification.classification_utils.InputExample at 0x1748ec53130>,\n",
       "  <simpletransformers.classification.classification_utils.InputExample at 0x1748ec53250>,\n",
       "  <simpletransformers.classification.classification_utils.InputExample at 0x1748ec53550>,\n",
       "  <simpletransformers.classification.classification_utils.InputExample at 0x1748ec539d0>,\n",
       "  <simpletransformers.classification.classification_utils.InputExample at 0x1748ec53c70>,\n",
       "  <simpletransformers.classification.classification_utils.InputExample at 0x1748ec53f70>,\n",
       "  <simpletransformers.classification.classification_utils.InputExample at 0x1748ec53fd0>,\n",
       "  <simpletransformers.classification.classification_utils.InputExample at 0x1748ec5f070>,\n",
       "  <simpletransformers.classification.classification_utils.InputExample at 0x1748ec5f130>,\n",
       "  <simpletransformers.classification.classification_utils.InputExample at 0x1748ec5f2b0>,\n",
       "  <simpletransformers.classification.classification_utils.InputExample at 0x1748ec5f7f0>,\n",
       "  <simpletransformers.classification.classification_utils.InputExample at 0x1748ec5fa30>,\n",
       "  <simpletransformers.classification.classification_utils.InputExample at 0x1748ec5fc70>,\n",
       "  <simpletransformers.classification.classification_utils.InputExample at 0x1748ec5ffd0>,\n",
       "  <simpletransformers.classification.classification_utils.InputExample at 0x1748ec5d070>,\n",
       "  <simpletransformers.classification.classification_utils.InputExample at 0x1748ec5d1f0>,\n",
       "  <simpletransformers.classification.classification_utils.InputExample at 0x1748ec5d490>,\n",
       "  <simpletransformers.classification.classification_utils.InputExample at 0x1748ec5d4f0>,\n",
       "  <simpletransformers.classification.classification_utils.InputExample at 0x1748ec5d550>,\n",
       "  <simpletransformers.classification.classification_utils.InputExample at 0x1748ec5d8b0>,\n",
       "  <simpletransformers.classification.classification_utils.InputExample at 0x1748ec5da30>,\n",
       "  <simpletransformers.classification.classification_utils.InputExample at 0x1748ec5da90>,\n",
       "  <simpletransformers.classification.classification_utils.InputExample at 0x1748ec5dbb0>,\n",
       "  <simpletransformers.classification.classification_utils.InputExample at 0x1748ec5dcd0>,\n",
       "  <simpletransformers.classification.classification_utils.InputExample at 0x1748ec55250>,\n",
       "  <simpletransformers.classification.classification_utils.InputExample at 0x1748ec55370>,\n",
       "  <simpletransformers.classification.classification_utils.InputExample at 0x1748ec55670>,\n",
       "  <simpletransformers.classification.classification_utils.InputExample at 0x1748ec55af0>,\n",
       "  <simpletransformers.classification.classification_utils.InputExample at 0x1748ec55cd0>,\n",
       "  <simpletransformers.classification.classification_utils.InputExample at 0x1748ec55e50>,\n",
       "  <simpletransformers.classification.classification_utils.InputExample at 0x1748ec57070>,\n",
       "  <simpletransformers.classification.classification_utils.InputExample at 0x1748ec570d0>,\n",
       "  <simpletransformers.classification.classification_utils.InputExample at 0x1748ec576d0>,\n",
       "  <simpletransformers.classification.classification_utils.InputExample at 0x1748ec577f0>,\n",
       "  <simpletransformers.classification.classification_utils.InputExample at 0x1748ec57d90>,\n",
       "  <simpletransformers.classification.classification_utils.InputExample at 0x1748ec57f70>,\n",
       "  <simpletransformers.classification.classification_utils.InputExample at 0x1748ec520d0>,\n",
       "  <simpletransformers.classification.classification_utils.InputExample at 0x1748ec52550>,\n",
       "  <simpletransformers.classification.classification_utils.InputExample at 0x1748ec526d0>,\n",
       "  <simpletransformers.classification.classification_utils.InputExample at 0x1748ec52910>,\n",
       "  <simpletransformers.classification.classification_utils.InputExample at 0x1748ec52af0>,\n",
       "  <simpletransformers.classification.classification_utils.InputExample at 0x1748ec52c70>,\n",
       "  <simpletransformers.classification.classification_utils.InputExample at 0x1748ec52eb0>,\n",
       "  <simpletransformers.classification.classification_utils.InputExample at 0x1748ec5b310>,\n",
       "  <simpletransformers.classification.classification_utils.InputExample at 0x1748ec5b490>,\n",
       "  <simpletransformers.classification.classification_utils.InputExample at 0x1748ec5b6d0>,\n",
       "  <simpletransformers.classification.classification_utils.InputExample at 0x1748ec5b730>,\n",
       "  <simpletransformers.classification.classification_utils.InputExample at 0x1748ec5b790>,\n",
       "  <simpletransformers.classification.classification_utils.InputExample at 0x1748ec5b9d0>,\n",
       "  <simpletransformers.classification.classification_utils.InputExample at 0x1748ec5bbb0>,\n",
       "  <simpletransformers.classification.classification_utils.InputExample at 0x1748ec5bc70>,\n",
       "  <simpletransformers.classification.classification_utils.InputExample at 0x1748ec5bd90>,\n",
       "  <simpletransformers.classification.classification_utils.InputExample at 0x1748ec5be50>,\n",
       "  <simpletransformers.classification.classification_utils.InputExample at 0x1748ec5beb0>,\n",
       "  <simpletransformers.classification.classification_utils.InputExample at 0x1748ec5bf10>,\n",
       "  <simpletransformers.classification.classification_utils.InputExample at 0x1748f02f070>,\n",
       "  <simpletransformers.classification.classification_utils.InputExample at 0x1748f02f430>,\n",
       "  <simpletransformers.classification.classification_utils.InputExample at 0x1748f02f490>,\n",
       "  <simpletransformers.classification.classification_utils.InputExample at 0x1748f02f610>,\n",
       "  <simpletransformers.classification.classification_utils.InputExample at 0x1748f02f670>,\n",
       "  <simpletransformers.classification.classification_utils.InputExample at 0x1748f02f6d0>,\n",
       "  <simpletransformers.classification.classification_utils.InputExample at 0x1748f02f8b0>,\n",
       "  <simpletransformers.classification.classification_utils.InputExample at 0x1748f02fe50>,\n",
       "  <simpletransformers.classification.classification_utils.InputExample at 0x1748f02feb0>,\n",
       "  <simpletransformers.classification.classification_utils.InputExample at 0x1748f02ff70>,\n",
       "  <simpletransformers.classification.classification_utils.InputExample at 0x1748f02c430>,\n",
       "  <simpletransformers.classification.classification_utils.InputExample at 0x1748f02c490>,\n",
       "  <simpletransformers.classification.classification_utils.InputExample at 0x1748f02c5b0>,\n",
       "  <simpletransformers.classification.classification_utils.InputExample at 0x1748f02c7f0>,\n",
       "  <simpletransformers.classification.classification_utils.InputExample at 0x1748f02c970>,\n",
       "  <simpletransformers.classification.classification_utils.InputExample at 0x1748f02c9d0>,\n",
       "  <simpletransformers.classification.classification_utils.InputExample at 0x1748f02ccd0>,\n",
       "  <simpletransformers.classification.classification_utils.InputExample at 0x1748f02d1f0>,\n",
       "  <simpletransformers.classification.classification_utils.InputExample at 0x1748f02d2b0>,\n",
       "  <simpletransformers.classification.classification_utils.InputExample at 0x1748f02d3d0>,\n",
       "  <simpletransformers.classification.classification_utils.InputExample at 0x1748f02d430>,\n",
       "  <simpletransformers.classification.classification_utils.InputExample at 0x1748f02d490>,\n",
       "  <simpletransformers.classification.classification_utils.InputExample at 0x1748f02d4f0>,\n",
       "  <simpletransformers.classification.classification_utils.InputExample at 0x1748f02d730>,\n",
       "  <simpletransformers.classification.classification_utils.InputExample at 0x1748f02d790>,\n",
       "  <simpletransformers.classification.classification_utils.InputExample at 0x1748f02d8b0>,\n",
       "  <simpletransformers.classification.classification_utils.InputExample at 0x1748f02ddf0>,\n",
       "  <simpletransformers.classification.classification_utils.InputExample at 0x1748f0303d0>,\n",
       "  <simpletransformers.classification.classification_utils.InputExample at 0x1748f030550>,\n",
       "  <simpletransformers.classification.classification_utils.InputExample at 0x1748f030790>,\n",
       "  <simpletransformers.classification.classification_utils.InputExample at 0x1748f030910>,\n",
       "  <simpletransformers.classification.classification_utils.InputExample at 0x1748f030d30>,\n",
       "  <simpletransformers.classification.classification_utils.InputExample at 0x1748f030f70>,\n",
       "  <simpletransformers.classification.classification_utils.InputExample at 0x1748f02e430>,\n",
       "  <simpletransformers.classification.classification_utils.InputExample at 0x1748f02e5b0>,\n",
       "  <simpletransformers.classification.classification_utils.InputExample at 0x1748f02e850>,\n",
       "  <simpletransformers.classification.classification_utils.InputExample at 0x1748f02e8b0>,\n",
       "  <simpletransformers.classification.classification_utils.InputExample at 0x1748f02e970>,\n",
       "  <simpletransformers.classification.classification_utils.InputExample at 0x1748f02eaf0>,\n",
       "  <simpletransformers.classification.classification_utils.InputExample at 0x1748f02ed90>,\n",
       "  <simpletransformers.classification.classification_utils.InputExample at 0x1748f02ef70>,\n",
       "  <simpletransformers.classification.classification_utils.InputExample at 0x1748f031070>,\n",
       "  <simpletransformers.classification.classification_utils.InputExample at 0x1748f0310d0>,\n",
       "  <simpletransformers.classification.classification_utils.InputExample at 0x1748f031790>,\n",
       "  <simpletransformers.classification.classification_utils.InputExample at 0x1748f0318b0>,\n",
       "  <simpletransformers.classification.classification_utils.InputExample at 0x1748f031970>,\n",
       "  <simpletransformers.classification.classification_utils.InputExample at 0x1748f031f10>,\n",
       "  <simpletransformers.classification.classification_utils.InputExample at 0x1748f033250>,\n",
       "  <simpletransformers.classification.classification_utils.InputExample at 0x1748f033970>,\n",
       "  <simpletransformers.classification.classification_utils.InputExample at 0x1748f034070>,\n",
       "  <simpletransformers.classification.classification_utils.InputExample at 0x1748f034490>,\n",
       "  <simpletransformers.classification.classification_utils.InputExample at 0x1748f0345b0>,\n",
       "  <simpletransformers.classification.classification_utils.InputExample at 0x1748f034850>,\n",
       "  <simpletransformers.classification.classification_utils.InputExample at 0x1748f034910>,\n",
       "  <simpletransformers.classification.classification_utils.InputExample at 0x1748f0349d0>,\n",
       "  <simpletransformers.classification.classification_utils.InputExample at 0x1748f034a90>,\n",
       "  <simpletransformers.classification.classification_utils.InputExample at 0x1748f034cd0>,\n",
       "  <simpletransformers.classification.classification_utils.InputExample at 0x1748f034df0>,\n",
       "  <simpletransformers.classification.classification_utils.InputExample at 0x1748f035070>,\n",
       "  <simpletransformers.classification.classification_utils.InputExample at 0x1748f0353d0>,\n",
       "  <simpletransformers.classification.classification_utils.InputExample at 0x1748f0356d0>,\n",
       "  <simpletransformers.classification.classification_utils.InputExample at 0x1748f035850>,\n",
       "  <simpletransformers.classification.classification_utils.InputExample at 0x1748f0358b0>,\n",
       "  <simpletransformers.classification.classification_utils.InputExample at 0x1748f035a30>,\n",
       "  <simpletransformers.classification.classification_utils.InputExample at 0x1748f035af0>,\n",
       "  <simpletransformers.classification.classification_utils.InputExample at 0x1748f035d30>,\n",
       "  <simpletransformers.classification.classification_utils.InputExample at 0x1748f035d90>,\n",
       "  <simpletransformers.classification.classification_utils.InputExample at 0x1748f035df0>,\n",
       "  <simpletransformers.classification.classification_utils.InputExample at 0x1748f035fd0>,\n",
       "  <simpletransformers.classification.classification_utils.InputExample at 0x1748f037190>,\n",
       "  <simpletransformers.classification.classification_utils.InputExample at 0x1748f0371f0>,\n",
       "  <simpletransformers.classification.classification_utils.InputExample at 0x1748f037430>,\n",
       "  <simpletransformers.classification.classification_utils.InputExample at 0x1748f037610>,\n",
       "  <simpletransformers.classification.classification_utils.InputExample at 0x1748f0379d0>,\n",
       "  <simpletransformers.classification.classification_utils.InputExample at 0x1748f037a90>,\n",
       "  <simpletransformers.classification.classification_utils.InputExample at 0x1748f037c10>,\n",
       "  <simpletransformers.classification.classification_utils.InputExample at 0x1748f037eb0>,\n",
       "  <simpletransformers.classification.classification_utils.InputExample at 0x1748f038550>,\n",
       "  <simpletransformers.classification.classification_utils.InputExample at 0x1748f0385b0>,\n",
       "  <simpletransformers.classification.classification_utils.InputExample at 0x1748f038610>,\n",
       "  <simpletransformers.classification.classification_utils.InputExample at 0x1748f038670>,\n",
       "  <simpletransformers.classification.classification_utils.InputExample at 0x1748f0387f0>,\n",
       "  <simpletransformers.classification.classification_utils.InputExample at 0x1748f038910>,\n",
       "  <simpletransformers.classification.classification_utils.InputExample at 0x1748f03a070>,\n",
       "  <simpletransformers.classification.classification_utils.InputExample at 0x1748f03a1f0>,\n",
       "  <simpletransformers.classification.classification_utils.InputExample at 0x1748f03a250>,\n",
       "  <simpletransformers.classification.classification_utils.InputExample at 0x1748f03a2b0>,\n",
       "  <simpletransformers.classification.classification_utils.InputExample at 0x1748f03aa30>,\n",
       "  <simpletransformers.classification.classification_utils.InputExample at 0x1748f03ae50>,\n",
       "  <simpletransformers.classification.classification_utils.InputExample at 0x1748f03af10>,\n",
       "  <simpletransformers.classification.classification_utils.InputExample at 0x1748f03afd0>,\n",
       "  <simpletransformers.classification.classification_utils.InputExample at 0x1748f03e0d0>,\n",
       "  <simpletransformers.classification.classification_utils.InputExample at 0x1748f03e3d0>,\n",
       "  <simpletransformers.classification.classification_utils.InputExample at 0x1748f03e430>,\n",
       "  <simpletransformers.classification.classification_utils.InputExample at 0x1748f03e4f0>,\n",
       "  <simpletransformers.classification.classification_utils.InputExample at 0x1748f03e790>,\n",
       "  <simpletransformers.classification.classification_utils.InputExample at 0x1748f03ebb0>,\n",
       "  <simpletransformers.classification.classification_utils.InputExample at 0x1748f03f250>,\n",
       "  <simpletransformers.classification.classification_utils.InputExample at 0x1748f03fc10>,\n",
       "  <simpletransformers.classification.classification_utils.InputExample at 0x1748f03fd30>,\n",
       "  <simpletransformers.classification.classification_utils.InputExample at 0x1748f03fdf0>,\n",
       "  <simpletransformers.classification.classification_utils.InputExample at 0x1748f03fe50>,\n",
       "  <simpletransformers.classification.classification_utils.InputExample at 0x1748f03ff10>,\n",
       "  <simpletransformers.classification.classification_utils.InputExample at 0x1748f041250>,\n",
       "  <simpletransformers.classification.classification_utils.InputExample at 0x1748f041430>,\n",
       "  <simpletransformers.classification.classification_utils.InputExample at 0x1748f041730>,\n",
       "  <simpletransformers.classification.classification_utils.InputExample at 0x1748f041790>,\n",
       "  <simpletransformers.classification.classification_utils.InputExample at 0x1748f041970>,\n",
       "  <simpletransformers.classification.classification_utils.InputExample at 0x1748f043130>,\n",
       "  <simpletransformers.classification.classification_utils.InputExample at 0x1748f043190>,\n",
       "  <simpletransformers.classification.classification_utils.InputExample at 0x1748f043250>,\n",
       "  <simpletransformers.classification.classification_utils.InputExample at 0x1748f0432b0>,\n",
       "  <simpletransformers.classification.classification_utils.InputExample at 0x1748f043430>,\n",
       "  <simpletransformers.classification.classification_utils.InputExample at 0x1748f0435b0>,\n",
       "  <simpletransformers.classification.classification_utils.InputExample at 0x1748f043670>,\n",
       "  <simpletransformers.classification.classification_utils.InputExample at 0x1748f0436d0>,\n",
       "  <simpletransformers.classification.classification_utils.InputExample at 0x1748f043790>,\n",
       "  <simpletransformers.classification.classification_utils.InputExample at 0x1748f0439d0>,\n",
       "  <simpletransformers.classification.classification_utils.InputExample at 0x1748f043a30>,\n",
       "  <simpletransformers.classification.classification_utils.InputExample at 0x1748f045250>,\n",
       "  <simpletransformers.classification.classification_utils.InputExample at 0x1748f0457f0>,\n",
       "  <simpletransformers.classification.classification_utils.InputExample at 0x1748f045850>,\n",
       "  <simpletransformers.classification.classification_utils.InputExample at 0x1748f045a30>,\n",
       "  <simpletransformers.classification.classification_utils.InputExample at 0x1748f045af0>,\n",
       "  <simpletransformers.classification.classification_utils.InputExample at 0x1748f045bb0>,\n",
       "  <simpletransformers.classification.classification_utils.InputExample at 0x1748f045f70>,\n",
       "  <simpletransformers.classification.classification_utils.InputExample at 0x1748f047070>,\n",
       "  <simpletransformers.classification.classification_utils.InputExample at 0x1748f047190>,\n",
       "  <simpletransformers.classification.classification_utils.InputExample at 0x1748f0471f0>,\n",
       "  <simpletransformers.classification.classification_utils.InputExample at 0x1748f047430>,\n",
       "  <simpletransformers.classification.classification_utils.InputExample at 0x1748f047610>,\n",
       "  <simpletransformers.classification.classification_utils.InputExample at 0x1748f047af0>,\n",
       "  <simpletransformers.classification.classification_utils.InputExample at 0x1748f04a250>,\n",
       "  <simpletransformers.classification.classification_utils.InputExample at 0x1748f04a2b0>,\n",
       "  <simpletransformers.classification.classification_utils.InputExample at 0x1748f04a310>,\n",
       "  <simpletransformers.classification.classification_utils.InputExample at 0x1748f04a370>,\n",
       "  <simpletransformers.classification.classification_utils.InputExample at 0x1748f04a6d0>,\n",
       "  <simpletransformers.classification.classification_utils.InputExample at 0x1748f04a9d0>,\n",
       "  <simpletransformers.classification.classification_utils.InputExample at 0x1748f04b070>,\n",
       "  <simpletransformers.classification.classification_utils.InputExample at 0x1748f04b1f0>,\n",
       "  <simpletransformers.classification.classification_utils.InputExample at 0x1748f04b310>,\n",
       "  <simpletransformers.classification.classification_utils.InputExample at 0x1748f04b370>,\n",
       "  <simpletransformers.classification.classification_utils.InputExample at 0x1748f04b4f0>,\n",
       "  <simpletransformers.classification.classification_utils.InputExample at 0x1748f04b550>,\n",
       "  <simpletransformers.classification.classification_utils.InputExample at 0x1748f04b730>,\n",
       "  <simpletransformers.classification.classification_utils.InputExample at 0x1748f04bd30>,\n",
       "  <simpletransformers.classification.classification_utils.InputExample at 0x1748f04be50>,\n",
       "  <simpletransformers.classification.classification_utils.InputExample at 0x1748f04beb0>,\n",
       "  <simpletransformers.classification.classification_utils.InputExample at 0x1748f04d550>,\n",
       "  <simpletransformers.classification.classification_utils.InputExample at 0x1748f04d610>,\n",
       "  <simpletransformers.classification.classification_utils.InputExample at 0x1748f04d6d0>,\n",
       "  <simpletransformers.classification.classification_utils.InputExample at 0x1748f04db50>,\n",
       "  <simpletransformers.classification.classification_utils.InputExample at 0x1748f04dcd0>,\n",
       "  <simpletransformers.classification.classification_utils.InputExample at 0x1748f04f130>,\n",
       "  <simpletransformers.classification.classification_utils.InputExample at 0x1748f04f730>,\n",
       "  <simpletransformers.classification.classification_utils.InputExample at 0x1748f04f9d0>,\n",
       "  <simpletransformers.classification.classification_utils.InputExample at 0x1748f04fd90>,\n",
       "  <simpletransformers.classification.classification_utils.InputExample at 0x1748f04ff70>,\n",
       "  <simpletransformers.classification.classification_utils.InputExample at 0x1748f052070>,\n",
       "  <simpletransformers.classification.classification_utils.InputExample at 0x1748f0520d0>,\n",
       "  <simpletransformers.classification.classification_utils.InputExample at 0x1748f052130>,\n",
       "  <simpletransformers.classification.classification_utils.InputExample at 0x1748f0525b0>,\n",
       "  <simpletransformers.classification.classification_utils.InputExample at 0x1748f0526d0>,\n",
       "  <simpletransformers.classification.classification_utils.InputExample at 0x1748f052730>,\n",
       "  <simpletransformers.classification.classification_utils.InputExample at 0x1748f0527f0>,\n",
       "  <simpletransformers.classification.classification_utils.InputExample at 0x1748f052eb0>,\n",
       "  <simpletransformers.classification.classification_utils.InputExample at 0x1748f054250>,\n",
       "  <simpletransformers.classification.classification_utils.InputExample at 0x1748f054bb0>,\n",
       "  <simpletransformers.classification.classification_utils.InputExample at 0x1748f056070>,\n",
       "  <simpletransformers.classification.classification_utils.InputExample at 0x1748f056250>,\n",
       "  <simpletransformers.classification.classification_utils.InputExample at 0x1748f056430>,\n",
       "  <simpletransformers.classification.classification_utils.InputExample at 0x1748f056550>,\n",
       "  <simpletransformers.classification.classification_utils.InputExample at 0x1748f056730>,\n",
       "  <simpletransformers.classification.classification_utils.InputExample at 0x1748f056910>,\n",
       "  <simpletransformers.classification.classification_utils.InputExample at 0x1748f056c70>,\n",
       "  <simpletransformers.classification.classification_utils.InputExample at 0x1748f056d90>,\n",
       "  <simpletransformers.classification.classification_utils.InputExample at 0x1748f056fd0>,\n",
       "  <simpletransformers.classification.classification_utils.InputExample at 0x1748eb190d0>,\n",
       "  <simpletransformers.classification.classification_utils.InputExample at 0x1748eb19370>,\n",
       "  <simpletransformers.classification.classification_utils.InputExample at 0x1748eb19490>,\n",
       "  <simpletransformers.classification.classification_utils.InputExample at 0x1748eb19670>,\n",
       "  <simpletransformers.classification.classification_utils.InputExample at 0x1748eb19730>,\n",
       "  <simpletransformers.classification.classification_utils.InputExample at 0x1748eb197f0>,\n",
       "  <simpletransformers.classification.classification_utils.InputExample at 0x1748eb19970>,\n",
       "  <simpletransformers.classification.classification_utils.InputExample at 0x1748eb19b50>,\n",
       "  <simpletransformers.classification.classification_utils.InputExample at 0x1748eb19c70>,\n",
       "  <simpletransformers.classification.classification_utils.InputExample at 0x1748eb19df0>,\n",
       "  <simpletransformers.classification.classification_utils.InputExample at 0x1748eb19fd0>,\n",
       "  <simpletransformers.classification.classification_utils.InputExample at 0x1748eb2f190>,\n",
       "  <simpletransformers.classification.classification_utils.InputExample at 0x1748eb2f2b0>,\n",
       "  <simpletransformers.classification.classification_utils.InputExample at 0x1748eb2f670>,\n",
       "  <simpletransformers.classification.classification_utils.InputExample at 0x1748eb2f850>,\n",
       "  <simpletransformers.classification.classification_utils.InputExample at 0x1748eb2f970>,\n",
       "  <simpletransformers.classification.classification_utils.InputExample at 0x1748eb2f9d0>,\n",
       "  <simpletransformers.classification.classification_utils.InputExample at 0x1748eb2fa90>,\n",
       "  <simpletransformers.classification.classification_utils.InputExample at 0x1748eb2fbb0>,\n",
       "  <simpletransformers.classification.classification_utils.InputExample at 0x1748eb2fc10>,\n",
       "  <simpletransformers.classification.classification_utils.InputExample at 0x1748eb2fc70>,\n",
       "  <simpletransformers.classification.classification_utils.InputExample at 0x1748eb2fcd0>,\n",
       "  <simpletransformers.classification.classification_utils.InputExample at 0x1748eb2fdf0>,\n",
       "  <simpletransformers.classification.classification_utils.InputExample at 0x1748eb2ff10>,\n",
       "  <simpletransformers.classification.classification_utils.InputExample at 0x1748eb2ff70>,\n",
       "  <simpletransformers.classification.classification_utils.InputExample at 0x1748eb2d070>,\n",
       "  <simpletransformers.classification.classification_utils.InputExample at 0x1748eb2d490>,\n",
       "  <simpletransformers.classification.classification_utils.InputExample at 0x1748eb2deb0>,\n",
       "  <simpletransformers.classification.classification_utils.InputExample at 0x1748eb2dfd0>,\n",
       "  <simpletransformers.classification.classification_utils.InputExample at 0x1748eaf6070>,\n",
       "  <simpletransformers.classification.classification_utils.InputExample at 0x1748eaf6130>,\n",
       "  <simpletransformers.classification.classification_utils.InputExample at 0x1748eaf61f0>,\n",
       "  <simpletransformers.classification.classification_utils.InputExample at 0x1748eaf6670>,\n",
       "  <simpletransformers.classification.classification_utils.InputExample at 0x1748eaf6850>,\n",
       "  <simpletransformers.classification.classification_utils.InputExample at 0x1748eaf6910>,\n",
       "  <simpletransformers.classification.classification_utils.InputExample at 0x1748eaf6c70>,\n",
       "  <simpletransformers.classification.classification_utils.InputExample at 0x1748eaf6df0>,\n",
       "  <simpletransformers.classification.classification_utils.InputExample at 0x1748eaf6e50>,\n",
       "  <simpletransformers.classification.classification_utils.InputExample at 0x1748eaf31f0>,\n",
       "  <simpletransformers.classification.classification_utils.InputExample at 0x1748eaf3310>,\n",
       "  <simpletransformers.classification.classification_utils.InputExample at 0x1748eaf3370>,\n",
       "  <simpletransformers.classification.classification_utils.InputExample at 0x1748eaf3550>,\n",
       "  <simpletransformers.classification.classification_utils.InputExample at 0x1748eaf36d0>,\n",
       "  <simpletransformers.classification.classification_utils.InputExample at 0x1748eaf3c70>,\n",
       "  <simpletransformers.classification.classification_utils.InputExample at 0x1748eaf3df0>,\n",
       "  <simpletransformers.classification.classification_utils.InputExample at 0x1748eaf3e50>,\n",
       "  <simpletransformers.classification.classification_utils.InputExample at 0x1748eafa070>,\n",
       "  <simpletransformers.classification.classification_utils.InputExample at 0x1748eafa130>,\n",
       "  <simpletransformers.classification.classification_utils.InputExample at 0x1748eafa1f0>,\n",
       "  <simpletransformers.classification.classification_utils.InputExample at 0x1748eafa250>,\n",
       "  <simpletransformers.classification.classification_utils.InputExample at 0x1748eafa2b0>,\n",
       "  <simpletransformers.classification.classification_utils.InputExample at 0x1748eafa790>,\n",
       "  <simpletransformers.classification.classification_utils.InputExample at 0x1748eafa850>,\n",
       "  <simpletransformers.classification.classification_utils.InputExample at 0x1748eafab50>,\n",
       "  <simpletransformers.classification.classification_utils.InputExample at 0x1748eafaf10>,\n",
       "  <simpletransformers.classification.classification_utils.InputExample at 0x17492f94c70>,\n",
       "  <simpletransformers.classification.classification_utils.InputExample at 0x17492f94490>,\n",
       "  <simpletransformers.classification.classification_utils.InputExample at 0x17492f94070>,\n",
       "  <simpletransformers.classification.classification_utils.InputExample at 0x17492f94f40>,\n",
       "  <simpletransformers.classification.classification_utils.InputExample at 0x1748e4f5220>,\n",
       "  <simpletransformers.classification.classification_utils.InputExample at 0x1748e4f52e0>,\n",
       "  <simpletransformers.classification.classification_utils.InputExample at 0x1748e4f5400>,\n",
       "  <simpletransformers.classification.classification_utils.InputExample at 0x1748e4f55e0>,\n",
       "  <simpletransformers.classification.classification_utils.InputExample at 0x1748e4f5e20>,\n",
       "  <simpletransformers.classification.classification_utils.InputExample at 0x1748e4f6040>,\n",
       "  <simpletransformers.classification.classification_utils.InputExample at 0x1748e4f6220>,\n",
       "  <simpletransformers.classification.classification_utils.InputExample at 0x1748e4f62e0>,\n",
       "  <simpletransformers.classification.classification_utils.InputExample at 0x1748e4f6580>,\n",
       "  <simpletransformers.classification.classification_utils.InputExample at 0x1748e4f65e0>,\n",
       "  <simpletransformers.classification.classification_utils.InputExample at 0x1748e4f6700>,\n",
       "  <simpletransformers.classification.classification_utils.InputExample at 0x1748e4f6a00>,\n",
       "  <simpletransformers.classification.classification_utils.InputExample at 0x1748e4f6a60>,\n",
       "  <simpletransformers.classification.classification_utils.InputExample at 0x1748e4f6ac0>,\n",
       "  <simpletransformers.classification.classification_utils.InputExample at 0x1748e4f6b20>,\n",
       "  <simpletransformers.classification.classification_utils.InputExample at 0x1748e4f6b80>,\n",
       "  <simpletransformers.classification.classification_utils.InputExample at 0x1748e4f6be0>,\n",
       "  <simpletransformers.classification.classification_utils.InputExample at 0x1748e4f6ca0>,\n",
       "  <simpletransformers.classification.classification_utils.InputExample at 0x1748e4f7040>,\n",
       "  <simpletransformers.classification.classification_utils.InputExample at 0x1748e4f70a0>,\n",
       "  <simpletransformers.classification.classification_utils.InputExample at 0x1748e4f7100>,\n",
       "  <simpletransformers.classification.classification_utils.InputExample at 0x1748e4f7400>,\n",
       "  <simpletransformers.classification.classification_utils.InputExample at 0x1748e4f7b80>,\n",
       "  <simpletransformers.classification.classification_utils.InputExample at 0x1748e4f7ca0>,\n",
       "  <simpletransformers.classification.classification_utils.InputExample at 0x1748e4f7dc0>,\n",
       "  <simpletransformers.classification.classification_utils.InputExample at 0x1748e4f7e20>,\n",
       "  <simpletransformers.classification.classification_utils.InputExample at 0x1748e4f7ee0>,\n",
       "  <simpletransformers.classification.classification_utils.InputExample at 0x1748e4f7fa0>,\n",
       "  <simpletransformers.classification.classification_utils.InputExample at 0x1748e4f8040>,\n",
       "  <simpletransformers.classification.classification_utils.InputExample at 0x1748e4f80a0>,\n",
       "  <simpletransformers.classification.classification_utils.InputExample at 0x1748e4f8340>,\n",
       "  <simpletransformers.classification.classification_utils.InputExample at 0x1748e4f84c0>,\n",
       "  <simpletransformers.classification.classification_utils.InputExample at 0x1748e4f8520>,\n",
       "  <simpletransformers.classification.classification_utils.InputExample at 0x1748e4f8ca0>,\n",
       "  <simpletransformers.classification.classification_utils.InputExample at 0x1748e4f8e80>,\n",
       "  <simpletransformers.classification.classification_utils.InputExample at 0x1748e4f8ee0>,\n",
       "  <simpletransformers.classification.classification_utils.InputExample at 0x1748e4f8f40>,\n",
       "  <simpletransformers.classification.classification_utils.InputExample at 0x1748e4f8fa0>,\n",
       "  <simpletransformers.classification.classification_utils.InputExample at 0x1748e4f9160>,\n",
       "  <simpletransformers.classification.classification_utils.InputExample at 0x1748e4f91c0>,\n",
       "  <simpletransformers.classification.classification_utils.InputExample at 0x1748e4f9280>,\n",
       "  <simpletransformers.classification.classification_utils.InputExample at 0x1748e4f93a0>,\n",
       "  <simpletransformers.classification.classification_utils.InputExample at 0x1748e4f9400>,\n",
       "  <simpletransformers.classification.classification_utils.InputExample at 0x1748e4f9520>,\n",
       "  <simpletransformers.classification.classification_utils.InputExample at 0x1748e4f96a0>,\n",
       "  <simpletransformers.classification.classification_utils.InputExample at 0x1748e4f97c0>,\n",
       "  <simpletransformers.classification.classification_utils.InputExample at 0x1748e4f9ac0>,\n",
       "  <simpletransformers.classification.classification_utils.InputExample at 0x1748e4f9d60>,\n",
       "  <simpletransformers.classification.classification_utils.InputExample at 0x1748e4f9dc0>,\n",
       "  <simpletransformers.classification.classification_utils.InputExample at 0x1748e4fa100>,\n",
       "  <simpletransformers.classification.classification_utils.InputExample at 0x1748e4fa160>,\n",
       "  <simpletransformers.classification.classification_utils.InputExample at 0x1748e4fa1c0>,\n",
       "  <simpletransformers.classification.classification_utils.InputExample at 0x1748e4fa520>,\n",
       "  <simpletransformers.classification.classification_utils.InputExample at 0x1748e4fa640>,\n",
       "  <simpletransformers.classification.classification_utils.InputExample at 0x1748e4fa760>,\n",
       "  <simpletransformers.classification.classification_utils.InputExample at 0x1748e4fa820>,\n",
       "  <simpletransformers.classification.classification_utils.InputExample at 0x1748e4faa60>,\n",
       "  <simpletransformers.classification.classification_utils.InputExample at 0x1748e4fabe0>,\n",
       "  <simpletransformers.classification.classification_utils.InputExample at 0x1748e4fae80>,\n",
       "  <simpletransformers.classification.classification_utils.InputExample at 0x1748e4fafa0>,\n",
       "  <simpletransformers.classification.classification_utils.InputExample at 0x1748e4fb1c0>,\n",
       "  <simpletransformers.classification.classification_utils.InputExample at 0x1748e4fb6a0>,\n",
       "  <simpletransformers.classification.classification_utils.InputExample at 0x1748e4fb760>,\n",
       "  <simpletransformers.classification.classification_utils.InputExample at 0x1748e4fba60>,\n",
       "  <simpletransformers.classification.classification_utils.InputExample at 0x1748e4fbd60>,\n",
       "  <simpletransformers.classification.classification_utils.InputExample at 0x1748e4fc1c0>,\n",
       "  <simpletransformers.classification.classification_utils.InputExample at 0x1748e4fc3a0>,\n",
       "  <simpletransformers.classification.classification_utils.InputExample at 0x1748e4fc5e0>,\n",
       "  <simpletransformers.classification.classification_utils.InputExample at 0x1748e4fc700>,\n",
       "  <simpletransformers.classification.classification_utils.InputExample at 0x1748e4fca60>,\n",
       "  <simpletransformers.classification.classification_utils.InputExample at 0x1748e4fcac0>,\n",
       "  <simpletransformers.classification.classification_utils.InputExample at 0x1748e4fcd00>,\n",
       "  <simpletransformers.classification.classification_utils.InputExample at 0x1748e4fcfa0>,\n",
       "  <simpletransformers.classification.classification_utils.InputExample at 0x1748e4fe040>,\n",
       "  <simpletransformers.classification.classification_utils.InputExample at 0x1748e4fe1c0>,\n",
       "  <simpletransformers.classification.classification_utils.InputExample at 0x1748e4fe280>,\n",
       "  <simpletransformers.classification.classification_utils.InputExample at 0x1748e4fe340>,\n",
       "  <simpletransformers.classification.classification_utils.InputExample at 0x1748e4fe4c0>,\n",
       "  <simpletransformers.classification.classification_utils.InputExample at 0x1748e4fe7c0>,\n",
       "  <simpletransformers.classification.classification_utils.InputExample at 0x1748e4fe820>,\n",
       "  <simpletransformers.classification.classification_utils.InputExample at 0x1748e4fea00>,\n",
       "  <simpletransformers.classification.classification_utils.InputExample at 0x1748e4feb20>,\n",
       "  <simpletransformers.classification.classification_utils.InputExample at 0x1748e4fec40>,\n",
       "  <simpletransformers.classification.classification_utils.InputExample at 0x1748e4feca0>,\n",
       "  <simpletransformers.classification.classification_utils.InputExample at 0x1748e4fef40>,\n",
       "  <simpletransformers.classification.classification_utils.InputExample at 0x1748e4fefa0>,\n",
       "  <simpletransformers.classification.classification_utils.InputExample at 0x1748e4ff0a0>,\n",
       "  <simpletransformers.classification.classification_utils.InputExample at 0x1748e4ff100>,\n",
       "  <simpletransformers.classification.classification_utils.InputExample at 0x1748e4ff160>,\n",
       "  <simpletransformers.classification.classification_utils.InputExample at 0x1748e4ff400>,\n",
       "  <simpletransformers.classification.classification_utils.InputExample at 0x1748e4ff4c0>,\n",
       "  <simpletransformers.classification.classification_utils.InputExample at 0x1748e4ff880>,\n",
       "  <simpletransformers.classification.classification_utils.InputExample at 0x1748e4ff9a0>,\n",
       "  <simpletransformers.classification.classification_utils.InputExample at 0x1748e4ffa00>,\n",
       "  <simpletransformers.classification.classification_utils.InputExample at 0x1748e4ffd60>,\n",
       "  <simpletransformers.classification.classification_utils.InputExample at 0x1748e500160>,\n",
       "  <simpletransformers.classification.classification_utils.InputExample at 0x1748e5001c0>,\n",
       "  <simpletransformers.classification.classification_utils.InputExample at 0x1748e500340>,\n",
       "  <simpletransformers.classification.classification_utils.InputExample at 0x1748e5005e0>,\n",
       "  <simpletransformers.classification.classification_utils.InputExample at 0x1748e500640>,\n",
       "  <simpletransformers.classification.classification_utils.InputExample at 0x1748e500760>,\n",
       "  <simpletransformers.classification.classification_utils.InputExample at 0x1748e500880>,\n",
       "  <simpletransformers.classification.classification_utils.InputExample at 0x1748e500be0>,\n",
       "  <simpletransformers.classification.classification_utils.InputExample at 0x1748e500c40>,\n",
       "  <simpletransformers.classification.classification_utils.InputExample at 0x1748e501460>,\n",
       "  <simpletransformers.classification.classification_utils.InputExample at 0x1748e5015e0>,\n",
       "  <simpletransformers.classification.classification_utils.InputExample at 0x1748e501640>,\n",
       "  <simpletransformers.classification.classification_utils.InputExample at 0x1748e501760>,\n",
       "  <simpletransformers.classification.classification_utils.InputExample at 0x1748e5018e0>,\n",
       "  <simpletransformers.classification.classification_utils.InputExample at 0x1748e501940>,\n",
       "  <simpletransformers.classification.classification_utils.InputExample at 0x1748e501b20>,\n",
       "  <simpletransformers.classification.classification_utils.InputExample at 0x1748e501fa0>,\n",
       "  <simpletransformers.classification.classification_utils.InputExample at 0x1748e503280>,\n",
       "  <simpletransformers.classification.classification_utils.InputExample at 0x1748e503460>,\n",
       "  <simpletransformers.classification.classification_utils.InputExample at 0x1748e5035e0>,\n",
       "  <simpletransformers.classification.classification_utils.InputExample at 0x1748e503820>,\n",
       "  <simpletransformers.classification.classification_utils.InputExample at 0x1748e503940>,\n",
       "  <simpletransformers.classification.classification_utils.InputExample at 0x1748e503b20>,\n",
       "  <simpletransformers.classification.classification_utils.InputExample at 0x1748e503c40>,\n",
       "  <simpletransformers.classification.classification_utils.InputExample at 0x1748e503d00>,\n",
       "  <simpletransformers.classification.classification_utils.InputExample at 0x1748e503ee0>,\n",
       "  <simpletransformers.classification.classification_utils.InputExample at 0x1748e504160>,\n",
       "  <simpletransformers.classification.classification_utils.InputExample at 0x1748e5043a0>,\n",
       "  <simpletransformers.classification.classification_utils.InputExample at 0x1748e504400>,\n",
       "  <simpletransformers.classification.classification_utils.InputExample at 0x1748e504640>,\n",
       "  <simpletransformers.classification.classification_utils.InputExample at 0x1748e5046a0>,\n",
       "  <simpletransformers.classification.classification_utils.InputExample at 0x1748e5047c0>,\n",
       "  <simpletransformers.classification.classification_utils.InputExample at 0x1748e504880>,\n",
       "  <simpletransformers.classification.classification_utils.InputExample at 0x1748e504a00>,\n",
       "  <simpletransformers.classification.classification_utils.InputExample at 0x1748e504b20>,\n",
       "  <simpletransformers.classification.classification_utils.InputExample at 0x1748e507100>,\n",
       "  <simpletransformers.classification.classification_utils.InputExample at 0x1748e507400>,\n",
       "  <simpletransformers.classification.classification_utils.InputExample at 0x1748e507460>,\n",
       "  <simpletransformers.classification.classification_utils.InputExample at 0x1748e5076a0>,\n",
       "  <simpletransformers.classification.classification_utils.InputExample at 0x1748e507760>,\n",
       "  <simpletransformers.classification.classification_utils.InputExample at 0x1748e507880>,\n",
       "  <simpletransformers.classification.classification_utils.InputExample at 0x1748e507be0>,\n",
       "  <simpletransformers.classification.classification_utils.InputExample at 0x1748e507ca0>,\n",
       "  <simpletransformers.classification.classification_utils.InputExample at 0x1748e507e20>,\n",
       "  <simpletransformers.classification.classification_utils.InputExample at 0x1748e507f40>,\n",
       "  <simpletransformers.classification.classification_utils.InputExample at 0x1748e508100>,\n",
       "  <simpletransformers.classification.classification_utils.InputExample at 0x1748e5081c0>,\n",
       "  <simpletransformers.classification.classification_utils.InputExample at 0x1748e5082e0>,\n",
       "  <simpletransformers.classification.classification_utils.InputExample at 0x1748e508460>,\n",
       "  <simpletransformers.classification.classification_utils.InputExample at 0x1748e508880>,\n",
       "  <simpletransformers.classification.classification_utils.InputExample at 0x1748e508b20>,\n",
       "  <simpletransformers.classification.classification_utils.InputExample at 0x1748e508e20>,\n",
       "  <simpletransformers.classification.classification_utils.InputExample at 0x1748e508fa0>,\n",
       "  <simpletransformers.classification.classification_utils.InputExample at 0x1748e509100>,\n",
       "  <simpletransformers.classification.classification_utils.InputExample at 0x1748e509220>,\n",
       "  <simpletransformers.classification.classification_utils.InputExample at 0x1748e509520>,\n",
       "  <simpletransformers.classification.classification_utils.InputExample at 0x1748e509580>,\n",
       "  <simpletransformers.classification.classification_utils.InputExample at 0x1748e509760>])"
      ]
     },
     "execution_count": 29,
     "metadata": {},
     "output_type": "execute_result"
    }
   ],
   "source": [
    "result, model_outputs, wrong_predictions"
   ]
  },
  {
   "cell_type": "code",
   "execution_count": 30,
   "metadata": {
    "id": "uMYFl4mEToJb"
   },
   "outputs": [],
   "source": [
    "def accuracy_per_class(preds, labels):\n",
    "    label_dict_inverse = {v: k for k, v in label_dict.items()}\n",
    "    \n",
    "    preds_flat = np.argmax(preds, axis=1).flatten()\n",
    "    labels_flat = labels.flatten()\n",
    "\n",
    "    for label in np.unique(labels_flat):\n",
    "        y_preds = preds_flat[labels_flat==label]\n",
    "        y_true = labels_flat[labels_flat==label]\n",
    "        print(f'Class: {label_dict_inverse[label]}')\n",
    "        print(f'Accuracy: {len(y_preds[y_preds==label])}/{len(y_true)}\\n')"
   ]
  },
  {
   "cell_type": "code",
   "execution_count": 31,
   "metadata": {
    "id": "f47oLiscV6Hn"
   },
   "outputs": [
    {
     "data": {
      "application/vnd.jupyter.widget-view+json": {
       "model_id": "ac4c2f1f2e1a4f3b8c646a322dc0cd22",
       "version_major": 2,
       "version_minor": 0
      },
      "text/plain": [
       "  0%|          | 0/2977 [00:00<?, ?it/s]"
      ]
     },
     "metadata": {},
     "output_type": "display_data"
    },
    {
     "data": {
      "application/vnd.jupyter.widget-view+json": {
       "model_id": "f0fe2c271db64eeb9f63b0c423dd00bf",
       "version_major": 2,
       "version_minor": 0
      },
      "text/plain": [
       "Running Evaluation:   0%|          | 0/373 [00:00<?, ?it/s]"
      ]
     },
     "metadata": {},
     "output_type": "display_data"
    }
   ],
   "source": [
    "_, predictions, true_vals = model.eval_model(eval_df)"
   ]
  },
  {
   "cell_type": "code",
   "execution_count": 32,
   "metadata": {
    "id": "bTI6DUAqmQ9L"
   },
   "outputs": [
    {
     "data": {
      "text/plain": [
       "{'mcc': 0.0,\n",
       " 'tp': 2284,\n",
       " 'tn': 0,\n",
       " 'fp': 693,\n",
       " 'fn': 0,\n",
       " 'f1': 0.7672153174336579,\n",
       " 'acc': 0.767215317433658,\n",
       " 'eval_loss': 0.5447804159197667}"
      ]
     },
     "execution_count": 32,
     "metadata": {},
     "output_type": "execute_result"
    }
   ],
   "source": [
    "result"
   ]
  },
  {
   "cell_type": "code",
   "execution_count": 33,
   "metadata": {
    "id": "0KcwDpEbLRAp"
   },
   "outputs": [
    {
     "name": "stdout",
     "output_type": "stream",
     "text": [
      "              precision    recall  f1-score   support\n",
      "\n",
      "           0       0.00      0.00      0.00       693\n",
      "           1       0.77      1.00      0.87      2284\n",
      "\n",
      "    accuracy                           0.77      2977\n",
      "   macro avg       0.38      0.50      0.43      2977\n",
      "weighted avg       0.59      0.77      0.67      2977\n",
      "\n"
     ]
    },
    {
     "name": "stderr",
     "output_type": "stream",
     "text": [
      "C:\\Users\\sofia.zabit\\Anaconda3\\lib\\site-packages\\sklearn\\utils\\validation.py:67: FutureWarning: Pass labels=[0, 1] as keyword args. From version 0.25 passing these as positional arguments will result in an error\n",
      "  warnings.warn(\"Pass {} as keyword args. From version 0.25 \"\n",
      "C:\\Users\\sofia.zabit\\Anaconda3\\lib\\site-packages\\sklearn\\metrics\\_classification.py:1221: UndefinedMetricWarning: Precision and F-score are ill-defined and being set to 0.0 in labels with no predicted samples. Use `zero_division` parameter to control this behavior.\n",
      "  _warn_prf(average, modifier, msg_start, len(result))\n"
     ]
    }
   ],
   "source": [
    "predictions = []\n",
    "for x in model_outputs:\n",
    "    predictions.append(np.argmax(x))\n",
    "\n",
    "#print('f1 score:', f1_score(eval_df['label'], predictions,average='micro'))\n",
    "\n",
    "#target_names = ['class 0', 'class 1', 'class 2']\n",
    "print(classification_report(eval_df['label'], predictions,sorted(possible_labels)))#,target_names=sorted(df['label'].unique())))\n"
   ]
  },
  {
   "cell_type": "code",
   "execution_count": 34,
   "metadata": {
    "id": "5lhfS_98LRHa"
   },
   "outputs": [],
   "source": [
    "from sklearn.metrics import confusion_matrix\n",
    "cf = confusion_matrix(eval_df['label'], predictions,sorted(possible_labels))"
   ]
  },
  {
   "cell_type": "code",
   "execution_count": 35,
   "metadata": {
    "id": "1KjHY-z0LZkM"
   },
   "outputs": [
    {
     "data": {
      "text/plain": [
       "<matplotlib.axes._subplots.AxesSubplot at 0x1748ec437c0>"
      ]
     },
     "execution_count": 35,
     "metadata": {},
     "output_type": "execute_result"
    },
    {
     "data": {
      "image/png": "[encoded data removed]",
      "text/plain": [
       "<Figure size 432x288 with 2 Axes>"
      ]
     },
     "metadata": {
      "needs_background": "light"
     },
     "output_type": "display_data"
    }
   ],
   "source": [
    "import seaborn as sns\n",
    "sns.heatmap(cf, annot=True)"
   ]
  }
 ],
 "metadata": {
  "accelerator": "GPU",
  "colab": {
   "collapsed_sections": [],
   "name": "bert_Simple_Transformer_5e-5.ipynb",
   "provenance": []
  },
  "kernelspec": {
   "display_name": "Python 3",
   "language": "python",
   "name": "python3"
  },
  "language_info": {
   "codemirror_mode": {
    "name": "ipython",
    "version": 3
   },
   "file_extension": ".py",
   "mimetype": "text/x-python",
   "name": "python",
   "nbconvert_exporter": "python",
   "pygments_lexer": "ipython3",
   "version": "3.8.3"
  }
 },
 "nbformat": 4,
 "nbformat_minor": 1
}
